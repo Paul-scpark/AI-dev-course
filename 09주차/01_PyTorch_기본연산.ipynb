{
  "nbformat": 4,
  "nbformat_minor": 0,
  "metadata": {
    "kernelspec": {
      "display_name": "Python 3",
      "language": "python",
      "name": "python3"
    },
    "language_info": {
      "codemirror_mode": {
        "name": "ipython",
        "version": 3
      },
      "file_extension": ".py",
      "mimetype": "text/x-python",
      "name": "python",
      "nbconvert_exporter": "python",
      "pygments_lexer": "ipython3",
      "version": "3.6.6"
    },
    "colab": {
      "provenance": []
    },
    "accelerator": "GPU",
    "gpuClass": "standard"
  },
  "cells": [
    {
      "cell_type": "code",
      "metadata": {
        "id": "82i4sHjFsnbS"
      },
      "source": [
        "%matplotlib inline"
      ],
      "execution_count": null,
      "outputs": []
    },
    {
      "cell_type": "markdown",
      "metadata": {
        "id": "uCg5X3BvsnbW"
      },
      "source": [
        "\n",
        "What is PyTorch?\n",
        "================\n",
        "\n",
        "Python 기반의 과학 연산 패키지로 다음과 같은 두 집단을 대상으로 합니다:\n",
        "\n",
        "-  NumPy를 대체하면서 GPU를 이용한 연산이 필요한 경우\n",
        "-  최대한의 유연성과 속도를 제공하는 딥러닝 연구 플랫폼이 필요한 경우\n",
        "\n",
        "Getting Started\n",
        "---------------\n",
        "\n",
        "Tensor는 NumPy의 ndarray와 유사하며, 추가로 GPU를 사용한 연산 가속도 가능합니다.\n",
        "\n"
      ]
    },
    {
      "cell_type": "code",
      "metadata": {
        "id": "ZZoDnlxosnbX",
        "colab": {
          "base_uri": "https://localhost:8080/",
          "height": 36
        },
        "outputId": "30e52c65-9424-4da0-8eb9-0a668f5253b1"
      },
      "source": [
        "from __future__ import print_function\n",
        "import torch\n",
        "\n",
        "torch.__version__"
      ],
      "execution_count": null,
      "outputs": [
        {
          "output_type": "execute_result",
          "data": {
            "text/plain": [
              "'1.12.1+cu113'"
            ],
            "application/vnd.google.colaboratory.intrinsic+json": {
              "type": "string"
            }
          },
          "metadata": {},
          "execution_count": 2
        }
      ]
    },
    {
      "cell_type": "markdown",
      "metadata": {
        "id": "emUXTaC5snba"
      },
      "source": [
        "초기화되지 않은 5x3 행렬을 생성합니다:\n",
        "\n"
      ]
    },
    {
      "cell_type": "code",
      "metadata": {
        "id": "LsX9dpsnsnba",
        "colab": {
          "base_uri": "https://localhost:8080/"
        },
        "outputId": "8536270e-d652-4f03-c8b6-ce79a1e19d03"
      },
      "source": [
        "x = torch.empty(5, 3)\n",
        "print(x)"
      ],
      "execution_count": null,
      "outputs": [
        {
          "output_type": "stream",
          "name": "stdout",
          "text": [
            "tensor([[9.8230e-35, 0.0000e+00, 3.3631e-44],\n",
            "        [0.0000e+00,        nan, 0.0000e+00],\n",
            "        [1.1578e+27, 1.1362e+30, 7.1547e+22],\n",
            "        [4.5828e+30, 1.2121e+04, 7.1846e+22],\n",
            "        [9.2198e-39, 7.0374e+22, 0.0000e+00]])\n"
          ]
        }
      ]
    },
    {
      "cell_type": "markdown",
      "metadata": {
        "id": "DuS8_CjRsnbe"
      },
      "source": [
        "무작위로 초기화된 행렬을 생성합니다:\n",
        "\n"
      ]
    },
    {
      "cell_type": "code",
      "metadata": {
        "id": "-gDc29L4snbf",
        "colab": {
          "base_uri": "https://localhost:8080/"
        },
        "outputId": "7875c427-7888-4914-e820-a145229abfe5"
      },
      "source": [
        "x = torch.randn(5, 3) # normal distribution sampling\n",
        "print(x)\n",
        "x = torch.rand(5, 3)  # 0~1 사이의 값 sampling\n",
        "print(x)"
      ],
      "execution_count": null,
      "outputs": [
        {
          "output_type": "stream",
          "name": "stdout",
          "text": [
            "tensor([[-1.3986, -0.2684,  0.0860],\n",
            "        [-0.0455, -0.7864,  1.4580],\n",
            "        [ 1.9342, -0.5584, -0.3059],\n",
            "        [-0.9159, -0.4336, -0.4687],\n",
            "        [-0.7757,  0.1979, -1.1054]])\n",
            "tensor([[0.6255, 0.7690, 0.5224],\n",
            "        [0.8808, 0.4944, 0.0941],\n",
            "        [0.0503, 0.7888, 0.0443],\n",
            "        [0.7185, 0.7746, 0.8149],\n",
            "        [0.0607, 0.3531, 0.8362]])\n"
          ]
        }
      ]
    },
    {
      "cell_type": "markdown",
      "metadata": {
        "id": "EnDW3xa2snbh"
      },
      "source": [
        "dtype이 long이고 0으로 채워진 행렬을 생성합니다:\n",
        "\n"
      ]
    },
    {
      "cell_type": "code",
      "metadata": {
        "id": "ooNlMfAIsnbi",
        "colab": {
          "base_uri": "https://localhost:8080/"
        },
        "outputId": "024fa23d-12c2-498b-f5b1-01ed8b30f220"
      },
      "source": [
        "x = torch.zeros(5, 3, dtype=torch.long)\n",
        "print(x)"
      ],
      "execution_count": null,
      "outputs": [
        {
          "output_type": "stream",
          "name": "stdout",
          "text": [
            "tensor([[0, 0, 0],\n",
            "        [0, 0, 0],\n",
            "        [0, 0, 0],\n",
            "        [0, 0, 0],\n",
            "        [0, 0, 0]])\n"
          ]
        }
      ]
    },
    {
      "cell_type": "code",
      "metadata": {
        "colab": {
          "base_uri": "https://localhost:8080/"
        },
        "id": "AkcOHXD9KCyq",
        "outputId": "830e93b0-f1b5-453a-8452-d8b8d95ed570"
      },
      "source": [
        "x = torch.ones(5, 3, dtype=torch.long)\n",
        "print(x)"
      ],
      "execution_count": null,
      "outputs": [
        {
          "output_type": "stream",
          "name": "stdout",
          "text": [
            "tensor([[1, 1, 1],\n",
            "        [1, 1, 1],\n",
            "        [1, 1, 1],\n",
            "        [1, 1, 1],\n",
            "        [1, 1, 1]])\n"
          ]
        }
      ]
    },
    {
      "cell_type": "markdown",
      "metadata": {
        "id": "yrjRCiCZsnbk"
      },
      "source": [
        "데이터로부터 tensor를 직접 생성합니다:\n",
        "\n"
      ]
    },
    {
      "cell_type": "code",
      "metadata": {
        "id": "nc0Xx93Nsnbk",
        "colab": {
          "base_uri": "https://localhost:8080/"
        },
        "outputId": "8c03fd5f-b2ae-4c17-e380-29b15315a42a"
      },
      "source": [
        "x = torch.tensor([5.5, 3])\n",
        "print(x)"
      ],
      "execution_count": null,
      "outputs": [
        {
          "output_type": "stream",
          "name": "stdout",
          "text": [
            "tensor([5.5000, 3.0000])\n"
          ]
        }
      ]
    },
    {
      "cell_type": "markdown",
      "metadata": {
        "id": "dXeA4TPFsnbn"
      },
      "source": [
        "또는 존재하는 tensor를 바탕으로 tensor를 만듭니다. \n",
        "이 메소드(method)들은 사용자로부터 제공된 새로운 값이 없는 한, 입력 tensor의 속성들(예. dtype)을 재사용합니다.\n"
      ]
    },
    {
      "cell_type": "code",
      "metadata": {
        "id": "BpiM1li7snbn",
        "colab": {
          "base_uri": "https://localhost:8080/"
        },
        "outputId": "1b8ad112-4f45-4111-b56b-737a3104bc68"
      },
      "source": [
        "x = x.new_ones(5, 3, dtype=torch.double)      # new_* methods take in sizes\n",
        "print(x)\n",
        "\n",
        "x = torch.randn_like(x, dtype=torch.float)    # override dtype!\n",
        "print(x)                                      # result has the same size"
      ],
      "execution_count": null,
      "outputs": [
        {
          "output_type": "stream",
          "name": "stdout",
          "text": [
            "tensor([[1., 1., 1.],\n",
            "        [1., 1., 1.],\n",
            "        [1., 1., 1.],\n",
            "        [1., 1., 1.],\n",
            "        [1., 1., 1.]], dtype=torch.float64)\n",
            "tensor([[ 0.6824, -0.1961,  0.4658],\n",
            "        [ 1.7975,  0.0205,  0.6170],\n",
            "        [-0.8572,  0.2335,  1.1923],\n",
            "        [ 0.6501,  1.6362, -0.2130],\n",
            "        [ 1.3056, -1.0711, -0.9115]])\n"
          ]
        }
      ]
    },
    {
      "cell_type": "markdown",
      "metadata": {
        "id": "F6kOn4Oosnbq"
      },
      "source": [
        "행렬의 크기를 구합니다:\n",
        "\n"
      ]
    },
    {
      "cell_type": "code",
      "metadata": {
        "id": "1bXCTCXpsnbq",
        "colab": {
          "base_uri": "https://localhost:8080/"
        },
        "outputId": "cb41f641-a3c1-4a3b-f48a-278482d6d5fb"
      },
      "source": [
        "print(x.size())\n",
        "print(x.shape)"
      ],
      "execution_count": null,
      "outputs": [
        {
          "output_type": "stream",
          "name": "stdout",
          "text": [
            "torch.Size([5, 3])\n",
            "torch.Size([5, 3])\n"
          ]
        }
      ]
    },
    {
      "cell_type": "markdown",
      "metadata": {
        "id": "Jq9jZCRKsnbu"
      },
      "source": [
        "\n",
        "덧셈: 문법1"
      ]
    },
    {
      "cell_type": "code",
      "metadata": {
        "id": "uCWXyD2Hsnbu",
        "colab": {
          "base_uri": "https://localhost:8080/"
        },
        "outputId": "29a0db77-e0ef-49e7-8b11-d95afa4bab2b"
      },
      "source": [
        "y = torch.rand(5, 3)\n",
        "print(x)\n",
        "print(y)\n",
        "print(x + y)"
      ],
      "execution_count": null,
      "outputs": [
        {
          "output_type": "stream",
          "name": "stdout",
          "text": [
            "tensor([[ 0.6824, -0.1961,  0.4658],\n",
            "        [ 1.7975,  0.0205,  0.6170],\n",
            "        [-0.8572,  0.2335,  1.1923],\n",
            "        [ 0.6501,  1.6362, -0.2130],\n",
            "        [ 1.3056, -1.0711, -0.9115]])\n",
            "tensor([[0.5257, 0.3267, 0.4638],\n",
            "        [0.8507, 0.8463, 0.6182],\n",
            "        [0.9160, 0.7931, 0.2528],\n",
            "        [0.8125, 0.3364, 0.5586],\n",
            "        [0.6247, 0.7228, 0.7866]])\n",
            "tensor([[ 1.2081,  0.1306,  0.9296],\n",
            "        [ 2.6482,  0.8668,  1.2352],\n",
            "        [ 0.0588,  1.0267,  1.4451],\n",
            "        [ 1.4626,  1.9726,  0.3456],\n",
            "        [ 1.9303, -0.3483, -0.1249]])\n"
          ]
        }
      ]
    },
    {
      "cell_type": "markdown",
      "metadata": {
        "id": "DFu4Lo3csnbx"
      },
      "source": [
        "덧셈: 문법2\n",
        "\n"
      ]
    },
    {
      "cell_type": "code",
      "metadata": {
        "id": "DzKHzVOBsnbx",
        "colab": {
          "base_uri": "https://localhost:8080/"
        },
        "outputId": "a380f578-0b51-466b-dc23-a6b988556d75"
      },
      "source": [
        "print(torch.add(x, y))"
      ],
      "execution_count": null,
      "outputs": [
        {
          "output_type": "stream",
          "name": "stdout",
          "text": [
            "tensor([[ 1.2081,  0.1306,  0.9296],\n",
            "        [ 2.6482,  0.8668,  1.2352],\n",
            "        [ 0.0588,  1.0267,  1.4451],\n",
            "        [ 1.4626,  1.9726,  0.3456],\n",
            "        [ 1.9303, -0.3483, -0.1249]])\n"
          ]
        }
      ]
    },
    {
      "cell_type": "markdown",
      "metadata": {
        "id": "Ovk3r-8Psnbz"
      },
      "source": [
        "덧셈: 결과 tensor를 인자로 제공\n"
      ]
    },
    {
      "cell_type": "code",
      "metadata": {
        "id": "ZOB9erkpsnbz",
        "colab": {
          "base_uri": "https://localhost:8080/"
        },
        "outputId": "dfd91b23-434d-4d36-885f-0397fb631bc6"
      },
      "source": [
        "result = torch.empty(5, 3)\n",
        "print(result)\n",
        "\n",
        "torch.add(x, y, out=result)\n",
        "print(result)"
      ],
      "execution_count": null,
      "outputs": [
        {
          "output_type": "stream",
          "name": "stdout",
          "text": [
            "tensor([[ 9.8235e-35,  0.0000e+00,  9.2962e-01],\n",
            "        [ 2.6482e+00,  8.6682e-01,  1.2352e+00],\n",
            "        [ 5.8791e-02,  1.0267e+00,  1.4451e+00],\n",
            "        [ 1.4626e+00,  1.9726e+00,  3.4562e-01],\n",
            "        [ 1.9303e+00, -3.4831e-01, -1.2490e-01]])\n",
            "tensor([[ 1.2081,  0.1306,  0.9296],\n",
            "        [ 2.6482,  0.8668,  1.2352],\n",
            "        [ 0.0588,  1.0267,  1.4451],\n",
            "        [ 1.4626,  1.9726,  0.3456],\n",
            "        [ 1.9303, -0.3483, -0.1249]])\n"
          ]
        }
      ]
    },
    {
      "cell_type": "markdown",
      "metadata": {
        "id": "HN2T-jLrsnb1"
      },
      "source": [
        "덧셈: 바꿔치기(In-place) 방식\n"
      ]
    },
    {
      "cell_type": "code",
      "metadata": {
        "id": "Lf3t8CEHsnb2",
        "colab": {
          "base_uri": "https://localhost:8080/"
        },
        "outputId": "7c2472ae-75c9-429e-ba4b-00e3cd14f304"
      },
      "source": [
        "# adds x to y\n",
        "print(y)\n",
        "y.add_(x)\n",
        "print(y)"
      ],
      "execution_count": null,
      "outputs": [
        {
          "output_type": "stream",
          "name": "stdout",
          "text": [
            "tensor([[0.5257, 0.3267, 0.4638],\n",
            "        [0.8507, 0.8463, 0.6182],\n",
            "        [0.9160, 0.7931, 0.2528],\n",
            "        [0.8125, 0.3364, 0.5586],\n",
            "        [0.6247, 0.7228, 0.7866]])\n",
            "tensor([[ 1.2081,  0.1306,  0.9296],\n",
            "        [ 2.6482,  0.8668,  1.2352],\n",
            "        [ 0.0588,  1.0267,  1.4451],\n",
            "        [ 1.4626,  1.9726,  0.3456],\n",
            "        [ 1.9303, -0.3483, -0.1249]])\n"
          ]
        }
      ]
    },
    {
      "cell_type": "markdown",
      "metadata": {
        "id": "Otzt2-mMsnb4"
      },
      "source": [
        "<div class=\"alert alert-info\"><h4>Note</h4><p>바꿔치기(In-place) 방식으로 tensor의 값을 변경하는 연산은 _ 를 접미사로 갖습니다.<p>\n",
        "예: x.copy_(y), x.t_() 는 x 를 변경합니다.\n",
        "\n",
        "<p>\n",
        "NumPy스러운 인덱싱 표기 방법을 사용할 수도 있습니다!\n"
      ]
    },
    {
      "cell_type": "code",
      "metadata": {
        "id": "kKg180otsnb4",
        "colab": {
          "base_uri": "https://localhost:8080/"
        },
        "outputId": "b17c0c4a-b96d-40f7-b2fa-b69613f0c23b"
      },
      "source": [
        "print(x)\n",
        "print(x[:, 1])"
      ],
      "execution_count": null,
      "outputs": [
        {
          "output_type": "stream",
          "name": "stdout",
          "text": [
            "tensor([[ 0.6824, -0.1961,  0.4658],\n",
            "        [ 1.7975,  0.0205,  0.6170],\n",
            "        [-0.8572,  0.2335,  1.1923],\n",
            "        [ 0.6501,  1.6362, -0.2130],\n",
            "        [ 1.3056, -1.0711, -0.9115]])\n",
            "tensor([-0.1961,  0.0205,  0.2335,  1.6362, -1.0711])\n"
          ]
        }
      ]
    },
    {
      "cell_type": "markdown",
      "metadata": {
        "id": "FDLx9bI3snb7"
      },
      "source": [
        "크기 변경: tensor의 크기(size)나 모양(shape)을 변경하고 싶다면 torch.view 를 사용합니다:\n"
      ]
    },
    {
      "cell_type": "code",
      "metadata": {
        "id": "DBjVLCv5snb7",
        "colab": {
          "base_uri": "https://localhost:8080/"
        },
        "outputId": "22361bff-003f-4050-f7b6-99b3c81b4d58"
      },
      "source": [
        "x = torch.randn(4, 4)\n",
        "print(x)\n",
        "\n",
        "y = x.view(16)\n",
        "z = y.view(-1, 2)  # the size -1 is inferred from other dimensions\n",
        "print(y)\n",
        "print(z)\n",
        "print(y.size(), z.size())"
      ],
      "execution_count": null,
      "outputs": [
        {
          "output_type": "stream",
          "name": "stdout",
          "text": [
            "tensor([[-0.0718,  0.7445, -0.5144, -1.2786],\n",
            "        [ 1.5802,  0.1535,  0.5422, -1.0773],\n",
            "        [ 0.5343,  0.0876, -0.3986, -0.7450],\n",
            "        [-0.9419,  0.9376, -0.9235,  1.1597]])\n",
            "tensor([-0.0718,  0.7445, -0.5144, -1.2786,  1.5802,  0.1535,  0.5422, -1.0773,\n",
            "         0.5343,  0.0876, -0.3986, -0.7450, -0.9419,  0.9376, -0.9235,  1.1597])\n",
            "tensor([[-0.0718,  0.7445],\n",
            "        [-0.5144, -1.2786],\n",
            "        [ 1.5802,  0.1535],\n",
            "        [ 0.5422, -1.0773],\n",
            "        [ 0.5343,  0.0876],\n",
            "        [-0.3986, -0.7450],\n",
            "        [-0.9419,  0.9376],\n",
            "        [-0.9235,  1.1597]])\n",
            "torch.Size([16]) torch.Size([8, 2])\n"
          ]
        }
      ]
    },
    {
      "cell_type": "markdown",
      "metadata": {
        "id": "dDDWiXtXsnb9"
      },
      "source": [
        "만약 tensor에 하나의 값만 존재한다면, .item() 을 사용하면 숫자 값을 얻을 수 있습니다.\n",
        "\n"
      ]
    },
    {
      "cell_type": "code",
      "metadata": {
        "id": "WIhw3GDfsnb-",
        "colab": {
          "base_uri": "https://localhost:8080/"
        },
        "outputId": "886ee4d8-df0a-4d69-89d8-151fe846aaa3"
      },
      "source": [
        "x = torch.randn(1)\n",
        "print(x)\n",
        "print(type(x), type(x.item()))\n",
        "print(x.item())\n"
      ],
      "execution_count": null,
      "outputs": [
        {
          "output_type": "stream",
          "name": "stdout",
          "text": [
            "tensor([1.1668])\n",
            "<class 'torch.Tensor'> <class 'float'>\n",
            "1.1668429374694824\n"
          ]
        }
      ]
    },
    {
      "cell_type": "markdown",
      "metadata": {
        "id": "_qy7VEshsncB"
      },
      "source": [
        "**읽을 거리:**\n",
        "\n",
        "\n",
        "  전치(transposing), 인덱싱(indexing), 슬라이싱(slicing), 수학 계산, 선형 대수, 난수(random number) 등과 같은 100가지 이상의 Tensor 연산은\n",
        "  `여기 <http://pytorch.org/docs/torch>` 에 설명되어 있습니다.\n",
        "\n",
        "NumPy 변환(Bridge)\n",
        "------------\n",
        "\n",
        "Torch Tensor를 NumPy 배열(array)로 변환하거나, 그 반대로 하는 것은 매우 쉽습니다.\n",
        "\n",
        "(CPU 상의) Torch Tensor와 NumPy 배열은 저장 공간을 공유하기 때문에, 하나를 변경하면 다른 하나도 변경됩니다.\n",
        "\n",
        "- Torch Tensor를 NumPy 배열로 변환하기\n",
        "\n"
      ]
    },
    {
      "cell_type": "code",
      "metadata": {
        "id": "rPKFva3ssncB",
        "colab": {
          "base_uri": "https://localhost:8080/"
        },
        "outputId": "c24e5891-bf89-4490-f6ab-869864809c61"
      },
      "source": [
        "a = torch.ones(5)\n",
        "print(a)"
      ],
      "execution_count": null,
      "outputs": [
        {
          "output_type": "stream",
          "name": "stdout",
          "text": [
            "tensor([1., 1., 1., 1., 1.])\n"
          ]
        }
      ]
    },
    {
      "cell_type": "code",
      "metadata": {
        "id": "ZCPCzALIsncD",
        "colab": {
          "base_uri": "https://localhost:8080/"
        },
        "outputId": "d9510627-9cef-4735-a187-00dbedd784dd"
      },
      "source": [
        "b = a.numpy()\n",
        "print(b)"
      ],
      "execution_count": null,
      "outputs": [
        {
          "output_type": "stream",
          "name": "stdout",
          "text": [
            "[1. 1. 1. 1. 1.]\n"
          ]
        }
      ]
    },
    {
      "cell_type": "markdown",
      "metadata": {
        "id": "j-8hzE25sncF"
      },
      "source": [
        "NumPy 배열의 값이 어떻게 변하는지 확인해보세요.\n",
        "\n"
      ]
    },
    {
      "cell_type": "code",
      "metadata": {
        "id": "Wsznw1eqsncF",
        "colab": {
          "base_uri": "https://localhost:8080/"
        },
        "outputId": "a3f20026-952a-4aca-b965-1609b31ae84f"
      },
      "source": [
        "a.add_(1)\n",
        "print(a)\n",
        "print(b)"
      ],
      "execution_count": null,
      "outputs": [
        {
          "output_type": "stream",
          "name": "stdout",
          "text": [
            "tensor([2., 2., 2., 2., 2.])\n",
            "[2. 2. 2. 2. 2.]\n"
          ]
        }
      ]
    },
    {
      "cell_type": "code",
      "metadata": {
        "colab": {
          "base_uri": "https://localhost:8080/"
        },
        "id": "BBFrx-f0QQil",
        "outputId": "e31a4aa6-a34e-4471-a7fb-fd04c6a446d8"
      },
      "source": [
        "temp = a.clone()\n",
        "temp_numpy = temp.numpy()\n",
        "\n",
        "a.add_(1)\n",
        "print(a)\n",
        "print(temp_numpy)"
      ],
      "execution_count": null,
      "outputs": [
        {
          "output_type": "stream",
          "name": "stdout",
          "text": [
            "tensor([3., 3., 3., 3., 3.])\n",
            "[2. 2. 2. 2. 2.]\n"
          ]
        }
      ]
    },
    {
      "cell_type": "markdown",
      "metadata": {
        "id": "pe446bKMsncH"
      },
      "source": [
        " - NumPy 배열을 Torch Tensor로 변환하기  \n",
        " \n",
        "NumPy(np) 배열을 변경하면 Torch Tensor의 값도 자동 변경되는 것을 확인해보세요.\n",
        "\n"
      ]
    },
    {
      "cell_type": "code",
      "metadata": {
        "id": "1T3FiWWusncI",
        "colab": {
          "base_uri": "https://localhost:8080/"
        },
        "outputId": "b135c913-f314-4eba-e88b-bf4fc465f7bb"
      },
      "source": [
        "import numpy as np\n",
        "a = np.ones(5)\n",
        "print(a)\n",
        "b = torch.from_numpy(a)\n",
        "np.add(a, 1, out=a)\n",
        "print(a)\n",
        "print(b)"
      ],
      "execution_count": null,
      "outputs": [
        {
          "output_type": "stream",
          "name": "stdout",
          "text": [
            "[1. 1. 1. 1. 1.]\n",
            "[2. 2. 2. 2. 2.]\n",
            "tensor([2., 2., 2., 2., 2.], dtype=torch.float64)\n"
          ]
        }
      ]
    },
    {
      "cell_type": "markdown",
      "metadata": {
        "id": "dc7afeqWsncJ"
      },
      "source": [
        "CharTensor를 제외한 CPU 상의 모든 Tensor는 NumPy로의 변환을 지원하며, (NumPy에서 Tensor로의) 반대 변환도 지원합니다.\n",
        "\n",
        "CUDA Tensors\n",
        "------------\n",
        "\n",
        ".to 메소드를 사용하여 Tensor를 어떠한 장치로도 옮길 수 있습니다.\n",
        "\n"
      ]
    },
    {
      "cell_type": "code",
      "metadata": {
        "id": "9CcL3nDUsncK",
        "colab": {
          "base_uri": "https://localhost:8080/"
        },
        "outputId": "5cdc93c1-bd06-41f4-d0f1-c535eccd2d73"
      },
      "source": [
        "import torch\n",
        "\n",
        "# 이 코드는 CUDA가 사용 가능한 환경에서만 실행합니다.\n",
        "# ``torch.device`` 를 사용하여 tensor를 GPU 안팎으로 이동해보겠습니다.\n",
        "\n",
        "x = torch.rand(4,4)\n",
        "if torch.cuda.is_available():\n",
        "    device = \"cuda:0\" # torch.device(\"cuda:0\")          # CUDA 장치 객체(device object)로\n",
        "    y = torch.ones_like(x, device=device)  # GPU 상에 직접적으로 tensor를 생성하거나\n",
        "    print(y)\n",
        "\n",
        "\n",
        "    x = x.to(device)                       # ``.to(\"cuda\")`` 를 사용하면 됩니다.\n",
        "    z = x + y\n",
        "    print(z)\n",
        "    print(z.to(\"cpu\", torch.double))       # ``.to`` 는 dtype도 함께 변경합니다!"
      ],
      "execution_count": null,
      "outputs": [
        {
          "output_type": "stream",
          "name": "stdout",
          "text": [
            "tensor([[1., 1., 1., 1.],\n",
            "        [1., 1., 1., 1.],\n",
            "        [1., 1., 1., 1.],\n",
            "        [1., 1., 1., 1.]], device='cuda:0')\n",
            "tensor([[1.2081, 1.4497, 1.2873, 1.2779],\n",
            "        [1.1535, 1.5532, 1.2098, 1.8122],\n",
            "        [1.1709, 1.8269, 1.4140, 1.9999],\n",
            "        [1.6878, 1.2743, 1.8011, 1.2985]], device='cuda:0')\n",
            "tensor([[1.2081, 1.4497, 1.2873, 1.2779],\n",
            "        [1.1535, 1.5532, 1.2098, 1.8122],\n",
            "        [1.1709, 1.8269, 1.4140, 1.9999],\n",
            "        [1.6878, 1.2743, 1.8011, 1.2985]], dtype=torch.float64)\n"
          ]
        }
      ]
    },
    {
      "cell_type": "code",
      "metadata": {
        "id": "eRUcwWN4yHzu"
      },
      "source": [
        "x = x.cuda()"
      ],
      "execution_count": null,
      "outputs": []
    }
  ]
}