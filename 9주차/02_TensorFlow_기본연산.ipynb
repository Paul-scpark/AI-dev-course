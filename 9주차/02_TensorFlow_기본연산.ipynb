{
  "nbformat": 4,
  "nbformat_minor": 0,
  "metadata": {
    "colab": {
      "provenance": []
    },
    "kernelspec": {
      "name": "python3",
      "display_name": "Python 3"
    }
  },
  "cells": [
    {
      "cell_type": "markdown",
      "metadata": {
        "id": "dRqUbY1kM3Hd"
      },
      "source": [
        "https://www.tensorflow.org/guide/tensor"
      ]
    },
    {
      "cell_type": "code",
      "metadata": {
        "colab": {
          "base_uri": "https://localhost:8080/"
        },
        "id": "gIroHLdyCcyH",
        "outputId": "797c0de5-7177-4ac0-9de2-8751bc073ca9"
      },
      "source": [
        "import tensorflow as tf\n",
        "print(tf.__version__)"
      ],
      "execution_count": 1,
      "outputs": [
        {
          "output_type": "stream",
          "name": "stdout",
          "text": [
            "2.9.2\n"
          ]
        }
      ]
    },
    {
      "cell_type": "markdown",
      "metadata": {
        "id": "eNsMhIJuCWZ6"
      },
      "source": [
        "##변수 생성"
      ]
    },
    {
      "cell_type": "code",
      "metadata": {
        "colab": {
          "base_uri": "https://localhost:8080/"
        },
        "id": "jy4ppwPRCYyN",
        "outputId": "7d07665b-6e34-4513-dcae-578f5218732c"
      },
      "source": [
        "#모양이 [1, 2, 3]이고 값은 0으로 채워진 3차원 텐서가 변수로 생성\n",
        "my_variable = tf.Variable(tf.zeros([1, 2, 3]))\n",
        "my_variable"
      ],
      "execution_count": 2,
      "outputs": [
        {
          "output_type": "execute_result",
          "data": {
            "text/plain": [
              "<tf.Variable 'Variable:0' shape=(1, 2, 3) dtype=float32, numpy=\n",
              "array([[[0., 0., 0.],\n",
              "        [0., 0., 0.]]], dtype=float32)>"
            ]
          },
          "metadata": {},
          "execution_count": 2
        }
      ]
    },
    {
      "cell_type": "markdown",
      "metadata": {
        "id": "ld36yxARC6MP"
      },
      "source": [
        "##변수의 사용"
      ]
    },
    {
      "cell_type": "code",
      "metadata": {
        "colab": {
          "base_uri": "https://localhost:8080/"
        },
        "id": "W60cG42xC8Ty",
        "outputId": "cc22381c-fab4-42be-f0ac-966693194424"
      },
      "source": [
        "# 텐서플로 그래프에서 tf.Variable의 값을 사용하려면 이를 단순히 tf.Tensor로 취급하면 됨\n",
        "v = tf.Variable(0.0)\n",
        "print(v)\n",
        "w = v + 1  # w는 v값 기준으로 계산되는 tf.Tensor 입니다.\n",
        "           # 변수가 수식에 사용될 때, 변수는 자동적으로\n",
        "           # tf.Tensor로 변환되어 값을 표현합니다.\n",
        "print(w)\n",
        "        "
      ],
      "execution_count": 3,
      "outputs": [
        {
          "output_type": "stream",
          "name": "stdout",
          "text": [
            "<tf.Variable 'Variable:0' shape=() dtype=float32, numpy=0.0>\n",
            "tf.Tensor(1.0, shape=(), dtype=float32)\n"
          ]
        }
      ]
    },
    {
      "cell_type": "code",
      "metadata": {
        "colab": {
          "base_uri": "https://localhost:8080/"
        },
        "id": "moWEqxNlDZ4G",
        "outputId": "2e943c00-1ab7-499f-f784-b95500d93fd9"
      },
      "source": [
        "#값을 변수에 할당하려면 assign, assign_add 메소드와 tf.Variable 클래스에 있는 친구들(friends)을 사용\n",
        "a = tf.Variable(0.0)\n",
        "a.assign_add(1)\n",
        "a.read_value()  # 1.0"
      ],
      "execution_count": 4,
      "outputs": [
        {
          "output_type": "execute_result",
          "data": {
            "text/plain": [
              "<tf.Tensor: shape=(), dtype=float32, numpy=1.0>"
            ]
          },
          "metadata": {},
          "execution_count": 4
        }
      ]
    },
    {
      "cell_type": "markdown",
      "metadata": {
        "id": "gmKPtuEZ9Odi"
      },
      "source": [
        "##tf.Tensor 객체의 랭크는 그 차원의 수"
      ]
    },
    {
      "cell_type": "markdown",
      "metadata": {
        "id": "lwc6j81ke7dD"
      },
      "source": [
        "## 랭크 0"
      ]
    },
    {
      "cell_type": "code",
      "metadata": {
        "id": "V-VBe89SezEO",
        "colab": {
          "base_uri": "https://localhost:8080/"
        },
        "outputId": "ef088b44-914a-4846-c0c8-a4061a228c2a"
      },
      "source": [
        "mammal = tf.Variable(\"코끼리\", tf.string)\n",
        "ignition = tf.Variable(451, tf.int16)\n",
        "floating = tf.Variable(3.14159265359, tf.float64)\n",
        "its_complicated = tf.Variable(12.3 - 4.85j, tf.complex64)\n",
        "\n",
        "print(mammal)\n",
        "print(ignition)\n",
        "print(floating)\n",
        "print(its_complicated)"
      ],
      "execution_count": 5,
      "outputs": [
        {
          "output_type": "stream",
          "name": "stdout",
          "text": [
            "<tf.Variable 'Variable:0' shape=() dtype=string, numpy=b'\\xec\\xbd\\x94\\xeb\\x81\\xbc\\xeb\\xa6\\xac'>\n",
            "<tf.Variable 'Variable:0' shape=() dtype=int32, numpy=451>\n",
            "<tf.Variable 'Variable:0' shape=() dtype=float32, numpy=3.1415927>\n",
            "<tf.Variable 'Variable:0' shape=() dtype=complex128, numpy=(12.3-4.85j)>\n"
          ]
        }
      ]
    },
    {
      "cell_type": "markdown",
      "metadata": {
        "id": "OJ2I99Vte9p3"
      },
      "source": [
        "## 랭크 1 (벡터)"
      ]
    },
    {
      "cell_type": "code",
      "metadata": {
        "id": "-6NuEImke2HV",
        "colab": {
          "base_uri": "https://localhost:8080/"
        },
        "outputId": "502b0799-093a-4261-a7e5-54fc25e992d9"
      },
      "source": [
        "mystr = tf.Variable([\"안녕하세요\"], tf.string)\n",
        "cool_numbers  = tf.Variable([3.14159, 2.71828], tf.float32)\n",
        "first_primes = tf.Variable([2, 3, 5, 7, 11], tf.int32)\n",
        "its_very_complicated = tf.Variable([12.3 - 4.85j, 7.5 - 6.23j], tf.complex64)\n",
        "\n",
        "print(mystr)\n",
        "print(cool_numbers)\n",
        "print(first_primes)\n",
        "print(its_very_complicated)\n",
        "tf.rank(mystr)"
      ],
      "execution_count": 6,
      "outputs": [
        {
          "output_type": "stream",
          "name": "stdout",
          "text": [
            "<tf.Variable 'Variable:0' shape=(1,) dtype=string, numpy=\n",
            "array([b'\\xec\\x95\\x88\\xeb\\x85\\x95\\xed\\x95\\x98\\xec\\x84\\xb8\\xec\\x9a\\x94'],\n",
            "      dtype=object)>\n",
            "<tf.Variable 'Variable:0' shape=(2,) dtype=float32, numpy=array([3.14159, 2.71828], dtype=float32)>\n",
            "<tf.Variable 'Variable:0' shape=(5,) dtype=int32, numpy=array([ 2,  3,  5,  7, 11], dtype=int32)>\n",
            "<tf.Variable 'Variable:0' shape=(2,) dtype=complex128, numpy=array([12.3-4.85j,  7.5-6.23j])>\n"
          ]
        },
        {
          "output_type": "execute_result",
          "data": {
            "text/plain": [
              "<tf.Tensor: shape=(), dtype=int32, numpy=1>"
            ]
          },
          "metadata": {},
          "execution_count": 6
        }
      ]
    },
    {
      "cell_type": "markdown",
      "metadata": {
        "id": "uARdmmwee_B4"
      },
      "source": [
        "## 고차원 랭크(랭크2, 랭크 2 tf.Tensor 객체는 최소 한 개 이상의 열과 행으로 구성됩니다)"
      ]
    },
    {
      "cell_type": "code",
      "metadata": {
        "id": "1WAPYrNwe361",
        "colab": {
          "base_uri": "https://localhost:8080/"
        },
        "outputId": "be9d3100-05b2-4565-b251-30a357c7e910"
      },
      "source": [
        "mymat = tf.Variable([[7],[11]], tf.int16)\n",
        "myxor = tf.Variable([[False, True],[True, False]], tf.bool)\n",
        "linear_squares = tf.Variable([[4], [9], [16], [25]], tf.int32)\n",
        "squarish_squares = tf.Variable([ [4, 9], [16, 25] ], tf.int32)\n",
        "\n",
        "#tf.rank : 객체의 랭크 구하기 \n",
        "rank_of_squares = tf.rank(squarish_squares)\n",
        "mymatC = tf.Variable([[7],[11]], tf.int32)\n",
        "\n",
        "print(mymat)\n",
        "print(rank_of_squares)"
      ],
      "execution_count": 7,
      "outputs": [
        {
          "output_type": "stream",
          "name": "stdout",
          "text": [
            "<tf.Variable 'Variable:0' shape=(2, 1) dtype=int32, numpy=\n",
            "array([[ 7],\n",
            "       [11]], dtype=int32)>\n",
            "tf.Tensor(2, shape=(), dtype=int32)\n"
          ]
        }
      ]
    },
    {
      "cell_type": "code",
      "metadata": {
        "id": "_qnMwD0MfCdq"
      },
      "source": [
        "my_image = tf.zeros([10, 299, 299, 3])  # 배치 x 높이 x 너비 x 색상\n",
        "\n",
        "# H*W = 299 * 299"
      ],
      "execution_count": 8,
      "outputs": []
    },
    {
      "cell_type": "markdown",
      "metadata": {
        "id": "jTn0rJENfNHa"
      },
      "source": [
        "## tf.Tensor 객체 랭크 구하기"
      ]
    },
    {
      "cell_type": "code",
      "metadata": {
        "id": "7j5d4th8fDp9",
        "colab": {
          "base_uri": "https://localhost:8080/"
        },
        "outputId": "74558128-dbfc-4d98-88a5-e0be50c5b2d8"
      },
      "source": [
        "r = tf.rank(my_image)\n",
        "print(r)\n",
        "# 이 코드가 실행된 후 r은 4라는 값을 가지게 됩니다."
      ],
      "execution_count": 9,
      "outputs": [
        {
          "output_type": "stream",
          "name": "stdout",
          "text": [
            "tf.Tensor(4, shape=(), dtype=int32)\n"
          ]
        }
      ]
    },
    {
      "cell_type": "markdown",
      "metadata": {
        "id": "pyBLTRDXfQH-"
      },
      "source": [
        "## tf.Tensor 원소 참조하기"
      ]
    },
    {
      "cell_type": "code",
      "metadata": {
        "colab": {
          "base_uri": "https://localhost:8080/"
        },
        "id": "Rr8vq1w5fJCq",
        "outputId": "c5b106d5-ff77-4f3a-9418-41189c667451"
      },
      "source": [
        "my_vector = tf.Variable([1, 2, 3, 4], tf.int32)\n",
        "print(tf.rank(my_vector))\n",
        "\n",
        "my_scalar = my_vector[2]\n",
        "print(my_scalar)"
      ],
      "execution_count": 10,
      "outputs": [
        {
          "output_type": "stream",
          "name": "stdout",
          "text": [
            "tf.Tensor(1, shape=(), dtype=int32)\n",
            "tf.Tensor(3, shape=(), dtype=int32)\n"
          ]
        }
      ]
    },
    {
      "cell_type": "code",
      "metadata": {
        "colab": {
          "base_uri": "https://localhost:8080/"
        },
        "id": "07RlB7c6fTNZ",
        "outputId": "ee2a5707-00dc-4542-9ad2-abbacbbc248b"
      },
      "source": [
        "print(squarish_squares)\n",
        "my_scalar = squarish_squares[1, 0] # 2행 1열의 값 \n",
        "print(my_scalar) "
      ],
      "execution_count": 11,
      "outputs": [
        {
          "output_type": "stream",
          "name": "stdout",
          "text": [
            "<tf.Variable 'Variable:0' shape=(2, 2) dtype=int32, numpy=\n",
            "array([[ 4,  9],\n",
            "       [16, 25]], dtype=int32)>\n",
            "tf.Tensor(16, shape=(), dtype=int32)\n"
          ]
        }
      ]
    },
    {
      "cell_type": "code",
      "metadata": {
        "colab": {
          "base_uri": "https://localhost:8080/"
        },
        "id": "0xZOFtKdf_nA",
        "outputId": "35198824-9bbd-40bd-a870-9506aee24053"
      },
      "source": [
        "my_row_vector = squarish_squares[1]\n",
        "my_column_vector = squarish_squares[:, 1]\n",
        "print(squarish_squares)\n",
        "print(my_row_vector)\n",
        "print(my_column_vector)"
      ],
      "execution_count": 12,
      "outputs": [
        {
          "output_type": "stream",
          "name": "stdout",
          "text": [
            "<tf.Variable 'Variable:0' shape=(2, 2) dtype=int32, numpy=\n",
            "array([[ 4,  9],\n",
            "       [16, 25]], dtype=int32)>\n",
            "tf.Tensor([16 25], shape=(2,), dtype=int32)\n",
            "tf.Tensor([ 9 25], shape=(2,), dtype=int32)\n"
          ]
        }
      ]
    },
    {
      "cell_type": "markdown",
      "metadata": {
        "id": "WR0MNHayhQ0A"
      },
      "source": [
        "## tf.Tensor 객체 형태 얻기"
      ]
    },
    {
      "cell_type": "code",
      "metadata": {
        "colab": {
          "base_uri": "https://localhost:8080/"
        },
        "id": "aaw_Hw0Rg4y0",
        "outputId": "50e340f3-91f5-4856-b952-5aa0540b10fb"
      },
      "source": [
        "zeros = tf.zeros(squarish_squares.shape) # squarish_squares.shape으로 새로운 텐서 생성 \n",
        "zeros"
      ],
      "execution_count": 13,
      "outputs": [
        {
          "output_type": "execute_result",
          "data": {
            "text/plain": [
              "<tf.Tensor: shape=(2, 2), dtype=float32, numpy=\n",
              "array([[0., 0.],\n",
              "       [0., 0.]], dtype=float32)>"
            ]
          },
          "metadata": {},
          "execution_count": 13
        }
      ]
    },
    {
      "cell_type": "markdown",
      "metadata": {
        "id": "Bi_Jc4JKhl2l"
      },
      "source": [
        "## tf.Tensor 형태 변경"
      ]
    },
    {
      "cell_type": "code",
      "metadata": {
        "colab": {
          "base_uri": "https://localhost:8080/",
          "height": 962
        },
        "id": "jyAlChurhdL1",
        "outputId": "a4d24288-def2-4c5f-b98e-8d16d4fb0783"
      },
      "source": [
        "#60\n",
        "rank_three_tensor = tf.ones([3, 4, 5])\n",
        "print(rank_three_tensor.shape)\n",
        "print(rank_three_tensor)\n",
        "matrix = tf.reshape(rank_three_tensor, [6, 10])  # 기존 내용을 6x10 행렬로\n",
        "                                                 # 형태 변경\n",
        "print('====matrix=====')                                   \n",
        "print(matrix)\n",
        "print(matrix.shape)\n",
        "\n",
        "matrixB = tf.reshape(matrix, [3, -1])  # 기존 내용을 3x20 행렬로 형태 변경\n",
        "                                       # -1은 차원 크기를 계산하여\n",
        "                                       # 자동으로 결정하라는 의미\n",
        "print('====matrixB=====') \n",
        "print(matrixB)\n",
        "print(matrixB.shape)\n",
        "\n",
        "matrixAlt = tf.reshape(matrixB, [4, 3, -1])  # 기존 내용을 4x3x5 텐서로\n",
        "                                             # 형태 변경\n",
        "print(matrixAlt.shape)\n",
        "\n",
        "# 형태가 변경된 텐서의 원소 개수는\n",
        "# 원래 텐서의 원소 개수와 같습니다.\n",
        "# 그러므로 다음은 원소 개수를 유지하면서\n",
        "# 마지막 차원에 사용 가능한 수가 없기 때문에 에러를 발생합니다.\n",
        "yet_another = tf.reshape(matrixAlt, [13, 2, -1])  # 에러!"
      ],
      "execution_count": 14,
      "outputs": [
        {
          "output_type": "stream",
          "name": "stdout",
          "text": [
            "(3, 4, 5)\n",
            "tf.Tensor(\n",
            "[[[1. 1. 1. 1. 1.]\n",
            "  [1. 1. 1. 1. 1.]\n",
            "  [1. 1. 1. 1. 1.]\n",
            "  [1. 1. 1. 1. 1.]]\n",
            "\n",
            " [[1. 1. 1. 1. 1.]\n",
            "  [1. 1. 1. 1. 1.]\n",
            "  [1. 1. 1. 1. 1.]\n",
            "  [1. 1. 1. 1. 1.]]\n",
            "\n",
            " [[1. 1. 1. 1. 1.]\n",
            "  [1. 1. 1. 1. 1.]\n",
            "  [1. 1. 1. 1. 1.]\n",
            "  [1. 1. 1. 1. 1.]]], shape=(3, 4, 5), dtype=float32)\n",
            "====matrix=====\n",
            "tf.Tensor(\n",
            "[[1. 1. 1. 1. 1. 1. 1. 1. 1. 1.]\n",
            " [1. 1. 1. 1. 1. 1. 1. 1. 1. 1.]\n",
            " [1. 1. 1. 1. 1. 1. 1. 1. 1. 1.]\n",
            " [1. 1. 1. 1. 1. 1. 1. 1. 1. 1.]\n",
            " [1. 1. 1. 1. 1. 1. 1. 1. 1. 1.]\n",
            " [1. 1. 1. 1. 1. 1. 1. 1. 1. 1.]], shape=(6, 10), dtype=float32)\n",
            "(6, 10)\n",
            "====matrixB=====\n",
            "tf.Tensor(\n",
            "[[1. 1. 1. 1. 1. 1. 1. 1. 1. 1. 1. 1. 1. 1. 1. 1. 1. 1. 1. 1.]\n",
            " [1. 1. 1. 1. 1. 1. 1. 1. 1. 1. 1. 1. 1. 1. 1. 1. 1. 1. 1. 1.]\n",
            " [1. 1. 1. 1. 1. 1. 1. 1. 1. 1. 1. 1. 1. 1. 1. 1. 1. 1. 1. 1.]], shape=(3, 20), dtype=float32)\n",
            "(3, 20)\n",
            "(4, 3, 5)\n"
          ]
        },
        {
          "output_type": "error",
          "ename": "InvalidArgumentError",
          "evalue": "ignored",
          "traceback": [
            "\u001b[0;31m---------------------------------------------------------------------------\u001b[0m",
            "\u001b[0;31mInvalidArgumentError\u001b[0m                      Traceback (most recent call last)",
            "\u001b[0;32m<ipython-input-14-0ab0538053cc>\u001b[0m in \u001b[0;36m<module>\u001b[0;34m\u001b[0m\n\u001b[1;32m     26\u001b[0m \u001b[0;31m# 그러므로 다음은 원소 개수를 유지하면서\u001b[0m\u001b[0;34m\u001b[0m\u001b[0;34m\u001b[0m\u001b[0;34m\u001b[0m\u001b[0m\n\u001b[1;32m     27\u001b[0m \u001b[0;31m# 마지막 차원에 사용 가능한 수가 없기 때문에 에러를 발생합니다.\u001b[0m\u001b[0;34m\u001b[0m\u001b[0;34m\u001b[0m\u001b[0;34m\u001b[0m\u001b[0m\n\u001b[0;32m---> 28\u001b[0;31m \u001b[0myet_another\u001b[0m \u001b[0;34m=\u001b[0m \u001b[0mtf\u001b[0m\u001b[0;34m.\u001b[0m\u001b[0mreshape\u001b[0m\u001b[0;34m(\u001b[0m\u001b[0mmatrixAlt\u001b[0m\u001b[0;34m,\u001b[0m \u001b[0;34m[\u001b[0m\u001b[0;36m13\u001b[0m\u001b[0;34m,\u001b[0m \u001b[0;36m2\u001b[0m\u001b[0;34m,\u001b[0m \u001b[0;34m-\u001b[0m\u001b[0;36m1\u001b[0m\u001b[0;34m]\u001b[0m\u001b[0;34m)\u001b[0m  \u001b[0;31m# 에러!\u001b[0m\u001b[0;34m\u001b[0m\u001b[0;34m\u001b[0m\u001b[0m\n\u001b[0m",
            "\u001b[0;32m/usr/local/lib/python3.8/dist-packages/tensorflow/python/util/traceback_utils.py\u001b[0m in \u001b[0;36merror_handler\u001b[0;34m(*args, **kwargs)\u001b[0m\n\u001b[1;32m    151\u001b[0m     \u001b[0;32mexcept\u001b[0m \u001b[0mException\u001b[0m \u001b[0;32mas\u001b[0m \u001b[0me\u001b[0m\u001b[0;34m:\u001b[0m\u001b[0;34m\u001b[0m\u001b[0;34m\u001b[0m\u001b[0m\n\u001b[1;32m    152\u001b[0m       \u001b[0mfiltered_tb\u001b[0m \u001b[0;34m=\u001b[0m \u001b[0m_process_traceback_frames\u001b[0m\u001b[0;34m(\u001b[0m\u001b[0me\u001b[0m\u001b[0;34m.\u001b[0m\u001b[0m__traceback__\u001b[0m\u001b[0;34m)\u001b[0m\u001b[0;34m\u001b[0m\u001b[0;34m\u001b[0m\u001b[0m\n\u001b[0;32m--> 153\u001b[0;31m       \u001b[0;32mraise\u001b[0m \u001b[0me\u001b[0m\u001b[0;34m.\u001b[0m\u001b[0mwith_traceback\u001b[0m\u001b[0;34m(\u001b[0m\u001b[0mfiltered_tb\u001b[0m\u001b[0;34m)\u001b[0m \u001b[0;32mfrom\u001b[0m \u001b[0;32mNone\u001b[0m\u001b[0;34m\u001b[0m\u001b[0;34m\u001b[0m\u001b[0m\n\u001b[0m\u001b[1;32m    154\u001b[0m     \u001b[0;32mfinally\u001b[0m\u001b[0;34m:\u001b[0m\u001b[0;34m\u001b[0m\u001b[0;34m\u001b[0m\u001b[0m\n\u001b[1;32m    155\u001b[0m       \u001b[0;32mdel\u001b[0m \u001b[0mfiltered_tb\u001b[0m\u001b[0;34m\u001b[0m\u001b[0;34m\u001b[0m\u001b[0m\n",
            "\u001b[0;32m/usr/local/lib/python3.8/dist-packages/tensorflow/python/eager/execute.py\u001b[0m in \u001b[0;36mquick_execute\u001b[0;34m(op_name, num_outputs, inputs, attrs, ctx, name)\u001b[0m\n\u001b[1;32m     52\u001b[0m   \u001b[0;32mtry\u001b[0m\u001b[0;34m:\u001b[0m\u001b[0;34m\u001b[0m\u001b[0;34m\u001b[0m\u001b[0m\n\u001b[1;32m     53\u001b[0m     \u001b[0mctx\u001b[0m\u001b[0;34m.\u001b[0m\u001b[0mensure_initialized\u001b[0m\u001b[0;34m(\u001b[0m\u001b[0;34m)\u001b[0m\u001b[0;34m\u001b[0m\u001b[0;34m\u001b[0m\u001b[0m\n\u001b[0;32m---> 54\u001b[0;31m     tensors = pywrap_tfe.TFE_Py_Execute(ctx._handle, device_name, op_name,\n\u001b[0m\u001b[1;32m     55\u001b[0m                                         inputs, attrs, num_outputs)\n\u001b[1;32m     56\u001b[0m   \u001b[0;32mexcept\u001b[0m \u001b[0mcore\u001b[0m\u001b[0;34m.\u001b[0m\u001b[0m_NotOkStatusException\u001b[0m \u001b[0;32mas\u001b[0m \u001b[0me\u001b[0m\u001b[0;34m:\u001b[0m\u001b[0;34m\u001b[0m\u001b[0;34m\u001b[0m\u001b[0m\n",
            "\u001b[0;31mInvalidArgumentError\u001b[0m: Input to reshape is a tensor with 60 values, but the requested shape requires a multiple of 26 [Op:Reshape]"
          ]
        }
      ]
    },
    {
      "cell_type": "markdown",
      "metadata": {
        "id": "pR3pIeWxiRac"
      },
      "source": [
        "## 자료형"
      ]
    },
    {
      "cell_type": "code",
      "metadata": {
        "id": "ZcqMkMcOhqyU",
        "colab": {
          "base_uri": "https://localhost:8080/"
        },
        "outputId": "7fd800f0-9a02-4eee-cf10-a8c0e48fe3c7"
      },
      "source": [
        "# 정수형 텐서를 실수형으로 변환.\n",
        "a=tf.constant([1,2,3])\n",
        "print(a)\n",
        "\n",
        "float_tensor = tf.cast(tf.constant([1, 2, 3]), dtype=tf.float32)\n",
        "float_tensor"
      ],
      "execution_count": 15,
      "outputs": [
        {
          "output_type": "stream",
          "name": "stdout",
          "text": [
            "tf.Tensor([1 2 3], shape=(3,), dtype=int32)\n"
          ]
        },
        {
          "output_type": "execute_result",
          "data": {
            "text/plain": [
              "<tf.Tensor: shape=(3,), dtype=float32, numpy=array([1., 2., 3.], dtype=float32)>"
            ]
          },
          "metadata": {},
          "execution_count": 15
        }
      ]
    }
  ]
}