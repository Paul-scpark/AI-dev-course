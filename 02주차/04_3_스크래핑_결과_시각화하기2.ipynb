{
 "cells": [
  {
   "cell_type": "markdown",
   "id": "192778f5-b6a0-458f-9d28-2ecd531975a1",
   "metadata": {
    "tags": []
   },
   "source": [
    "## 4-2. 스크래핑 결과 시각화하기 I - 해시코드 질문태그 빈도 시각화\n",
    "\n",
    "- bs4와 Seaborn을 이용해서 질문의 주제 빈도를 보여주는 시각화를 진행해봅시다."
   ]
  },
  {
   "cell_type": "markdown",
   "id": "21cda704-06c6-4de4-83a7-f77fbeec5728",
   "metadata": {},
   "source": [
    "### Target: 해시코드 질문 태그의 빈도 확인\n",
    "\n",
    "이전에 진행한 해시코드(https://hashcode.co.kr) 사이트에선 다양한 질문이 올라왔는데,  \n",
    "질문제목 아래에 \"태그\"가 있었습니다.\n",
    "\n",
    "이 태그의 빈도를 측정하면 어떤 주제의 질문이 많이 올라오는지 알 수 있을 것 같습니다.  \n",
    "이를 스크래핑 후 시각화해봅시다."
   ]
  },
  {
   "cell_type": "code",
   "execution_count": 1,
   "id": "4e467384-d9bc-4078-95ba-1ad8b9846a8b",
   "metadata": {},
   "outputs": [],
   "source": [
    "# 다음 User-Agent를 추가해봅시다.\n",
    "\n",
    "user_agent = {\"User-Agent\": \"Mozilla/5.0 (Macintosh; Intel Mac OS X 10_15_4) AppleWebKit/537.36 (KHTML, like Gecko) Chrome/83.0.4103.97 Safari/537.36\"}"
   ]
  },
  {
   "cell_type": "code",
   "execution_count": 2,
   "id": "2331adbb-13bd-4109-ba39-4e59174d0da6",
   "metadata": {},
   "outputs": [
    {
     "name": "stdout",
     "output_type": "stream",
     "text": [
      "{'python': 242, 'excel': 2, 'pyinstaller': 3, 'openpyxl': 4, 'kotlin': 7, 'android-studio': 9, 'game': 1, 'polynomial': 1, 'pandas': 18, 'selenium': 12, 'crawling': 6, 'xcode': 1, 'c++': 23, 'html': 7, 'html5': 1, 'class': 4, 'network': 1, 'port': 1, 'java': 34, 'name': 1, 'error': 9, 'function': 7, 'c': 42, 'fortran': 1, 'visual-studio': 3, 'regexp': 1, 'service': 1, 'gps': 1, 'android': 12, 'loops': 5, 'intellij-idea': 1, 'scala': 1, 'opencv': 5, 'python-3.x': 1, 'python3': 4, 'continue': 1, 'def': 3, 'javascript': 6, 'this': 1, 'selenium-webdrive': 3, 'list': 15, 'ubuntu': 3, 'git': 1, 'react': 4, 'mac': 1, 'vscode': 3, 'github': 6, 'keyboard-shortcut': 1, 'dataframe': 8, 'typescript': 3, 'npm': 1, 'random': 2, 'ios': 1, 'webview': 2, 'webapp': 1, 'while-loop': 7, 'beautifulsoup': 1, 'mysql': 3, 'ruby-on-rails': 2, 'float': 1, 'code': 1, 'django': 5, 'parameter': 1, 'return': 1, 'tuple': 3, 'programming': 3, 'py': 1, 'conditional-statement': 2, 'vue': 1, 'node.js': 7, 'axios': 1, 'get': 1, 'session': 1, 'psycopg2': 1, 'table': 1, 'regex': 4, 'windows': 2, 'socket': 3, 'asyncio': 1, 'ruby': 1, 'struct': 1, 'oracle': 1, 'sql': 1, 'mybatis': 1, 'jsp': 2, 'baseball-game': 1, 'jni': 1, 'process': 1, 'web': 2, 'auto': 1, 'macro': 1, 'mariadb': 1, 'css': 6, 'algorithm': 2, 'private': 1, 'c#': 3, 'web-crawling': 3, 'canvas': 1, 'fabric': 1, 'iterator': 1, 'array': 7, 'regression-analysis': 1, 'logistic-regression': 1, 'statsmodels': 1, 'oop': 1, 'program': 2, 'eclipse': 2, 'runtime-error': 1, 'dump': 1, 'flutter': 2, 'dev-c++': 1, 'dictionary': 5, 'qt': 2, 'qt-designer': 2, 'environment-variables': 1, 'for': 10, 'preprocessor': 1, 'ai': 1, 'tkinter': 4, 'python3.6.1': 1, 'len': 1, 'linux': 5, 'python-2.7': 2, 'idle': 1, 'pointer': 2, 'server': 2, 'connect': 1, 'tcp': 1, 'csv': 2, 'recursive': 3, 'write': 1, 'recyclerview': 2, 'stack': 1, 'tree': 1, 'r': 2, 'abstract-class': 1, 'arduino': 2, 'eoferror': 1, 'file': 2, 'txt': 2, 'macos': 1, 'pyside2': 2, 'firebase': 1, 'datetime': 3, 'date': 1, 'sorting': 1, 'jupyter-notebook': 3, 'konlpy': 1, 'text-mining': 1, 'matrix': 2, 'lambda': 1, 'machine-learning': 2, 'project': 1, 'syntax-error': 1, 'button': 1, 'event': 1, 'matlab': 1, 'time': 1, 'api': 2, 'google-chrome': 1, 'numpy': 6, 'korean': 2, 'timedelta': 1, 'postfix': 1, 'swap': 1, 'opengl': 2, 'matplotlib': 3, 'split': 2, 'method': 2, 'config': 1, 'parser': 1, 'xml': 1, 'pyqt5': 2, 'mobile': 1, 'index': 1, 'tensorflow': 1, 'format': 1, 'image': 4, 'upload': 1, 'script': 1, 'recursion': 2, 'mfc': 1, 'servlet': 1, 'unity': 1, 'coding-test': 1, 'pygame': 1, 'figcaption': 1, 'global-variable': 1, 'bash': 3, 'reference': 1, 'virtual-functions': 1, 'data': 1, 'formatt': 1, 'emulator': 1, 'android-asynctask': 1, 'casting': 1, 'anaconda': 2, 'json': 1, 'map': 1, 'input': 2, 'jupyter': 1, 'sklearn': 1, 'unicode': 1, 'cpu': 1, '2d-array': 1, 'pyqt': 1, 'winapi': 2, 'module': 1, 'primes': 2, 'binary-search': 1, 'rgb': 1, 'permissions': 2, 'coding': 6, 'sqlite3': 2, 'segmentation-fault': 2, 'shell': 2, 'if문': 3, 'terminal': 1, 'grep': 2, 'dynamic-allocation': 1, 'replace': 1, 'cv2': 1, 'gui': 2, 'visual': 1, 'object': 1, 'if-else': 1, 'binary': 1, 'math': 1, 'stt': 1, 'bluetooth': 1, 'label': 1, 'geolocation': 1, 'char': 1, 'scraping': 1, 'turtle': 2, 'flex': 1, 'operator-overloading': 1, 'querying': 1, 'orm': 1, 'sqlite': 1, 'data-structure': 1, 'binary-tree': 1, 'thread': 1, 'raspberry-pi': 1, 'pop': 1, 'push': 1, 'inheritance': 1, 'constructor': 1, 'boolean': 1, 'calculate': 1, '3d': 1, 'php': 1}\n"
     ]
    }
   ],
   "source": [
    "# 필요한 라이브러리를 불러온 후, 요청을 진행해봅시다.\n",
    "# 응답을 바탕으로 BeautifulSoup 객체를 생성해봅시다.\n",
    "# 질문의 빈도를 체크하는 dict를 만든 후, 빈도를 체크해봅시다.\n",
    "\n",
    "import time\n",
    "import requests\n",
    "from bs4 import BeautifulSoup\n",
    "\n",
    "frequecy = {}\n",
    "for i in range(1, 11):\n",
    "    res = requests.get(f\"https://hashcode.co.kr/?page={i}\", user_agent)\n",
    "    soup = BeautifulSoup(res.text, \"html.parser\")\n",
    "\n",
    "    # 1. ul 태그를 모두 찾기\n",
    "    # 2. 1번 안에 있는 li 태그의 text를 추출\n",
    "\n",
    "    ul_tags = soup.find_all('ul', 'question-tags')\n",
    "    for ul in ul_tags:\n",
    "        li_tags = ul.find_all('li')\n",
    "        for li in li_tags:\n",
    "            tag = li.text.strip()\n",
    "            if tag not in frequecy: frequecy[tag] = 1\n",
    "            else: frequecy[tag] += 1\n",
    "    time.sleep(0.5)\n",
    "\n",
    "print(frequecy)"
   ]
  },
  {
   "cell_type": "code",
   "execution_count": 3,
   "id": "beacf6bc-d9f7-4ca2-b027-d65892c62f9a",
   "metadata": {},
   "outputs": [
    {
     "data": {
      "text/plain": [
       "[('python', 242),\n",
       " ('c', 42),\n",
       " ('java', 34),\n",
       " ('c++', 23),\n",
       " ('pandas', 18),\n",
       " ('list', 15),\n",
       " ('selenium', 12),\n",
       " ('android', 12),\n",
       " ('for', 10),\n",
       " ('android-studio', 9)]"
      ]
     },
     "execution_count": 3,
     "metadata": {},
     "output_type": "execute_result"
    }
   ],
   "source": [
    "# Counter를 사용해 가장 빈도가 높은 value들을 추출합니다.\n",
    "\n",
    "from collections import Counter\n",
    "\n",
    "counter = Counter(frequecy)\n",
    "counter.most_common(10)"
   ]
  },
  {
   "cell_type": "code",
   "execution_count": 4,
   "id": "d31b97f8-033d-4636-bf90-76ebba724297",
   "metadata": {},
   "outputs": [
    {
     "data": {
      "text/plain": [
       "<AxesSubplot:>"
      ]
     },
     "execution_count": 4,
     "metadata": {},
     "output_type": "execute_result"
    },
    {
     "data": {
      "image/png": "[encoded data removed]",
      "text/plain": [
       "<Figure size 432x288 with 1 Axes>"
      ]
     },
     "metadata": {
      "needs_background": "light"
     },
     "output_type": "display_data"
    }
   ],
   "source": [
    "# Seaborn을 이용해 이를 Barplot으로 그립니다.\n",
    "\n",
    "import seaborn as sns\n",
    "\n",
    "x = [elem[0] for elem in counter.most_common(10)]\n",
    "y = [elem[1] for elem in counter.most_common(10)]\n",
    "\n",
    "sns.barplot(x=x, y=y)"
   ]
  },
  {
   "cell_type": "code",
   "execution_count": 5,
   "id": "b1afb921-3a85-45cf-b342-85be6f1d5f2e",
   "metadata": {},
   "outputs": [
    {
     "data": {
      "image/png": "[encoded data removed]",
      "text/plain": [
       "<Figure size 1440x720 with 1 Axes>"
      ]
     },
     "metadata": {
      "needs_background": "light"
     },
     "output_type": "display_data"
    }
   ],
   "source": [
    "# figure, xlabel, ylabel, title을 적절하게 설정해서 시각화를 완성해봅시다.\n",
    "\n",
    "import matplotlib.pyplot as plt\n",
    "\n",
    "plt.figure(figsize=(20, 10))\n",
    "plt.title(\"Frequency of question in Hashcode\")\n",
    "plt.xlabel(\"Tag\")\n",
    "plt.ylabel(\"Frequency\")\n",
    "\n",
    "sns.barplot(x=x, y=y)\n",
    "plt.show()"
   ]
  }
 ],
 "metadata": {
  "kernelspec": {
   "display_name": "Python 3 (ipykernel)",
   "language": "python",
   "name": "python3"
  },
  "language_info": {
   "codemirror_mode": {
    "name": "ipython",
    "version": 3
   },
   "file_extension": ".py",
   "mimetype": "text/x-python",
   "name": "python",
   "nbconvert_exporter": "python",
   "pygments_lexer": "ipython3",
   "version": "3.9.1"
  }
 },
 "nbformat": 4,
 "nbformat_minor": 5
}
