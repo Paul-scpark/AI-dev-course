{
 "cells": [
  {
   "cell_type": "markdown",
   "id": "192778f5-b6a0-458f-9d28-2ecd531975a1",
   "metadata": {},
   "source": [
    "## 2-3. 원하는 요소 가져오기 I - 책 이름 모으기\n",
    "\n",
    "- 연습만이 살길! 예시 사이트를 통해 스크래핑을 진행해봅시다."
   ]
  },
  {
   "cell_type": "markdown",
   "id": "21cda704-06c6-4de4-83a7-f77fbeec5728",
   "metadata": {},
   "source": [
    "### Target: Mock Book Data\n",
    "\n",
    "다음 사이트에 있는 책들의 이름 정보를 스크래핑 해봅시다 : http://books.toscrape.com/catalogue/category/books/travel_2/index.html  \n",
    "\n",
    "해당 웹 페이지는 임의의 책 정보가 담긴 웹 사이트입니다."
   ]
  },
  {
   "cell_type": "code",
   "execution_count": 1,
   "id": "e1e6514c",
   "metadata": {},
   "outputs": [],
   "source": [
    "# 스크래핑에 필요한 라이브러리를 불러와봅시다.\n",
    "\n",
    "import requests\n",
    "from bs4 import BeautifulSoup"
   ]
  },
  {
   "cell_type": "code",
   "execution_count": 2,
   "id": "8bdbf061-8236-4008-b75c-449458718736",
   "metadata": {},
   "outputs": [],
   "source": [
    "# 예시 사이트에 요청을 진행하고, 응답을 바탕으로 BeautifulSoup 객체를 만들어봅시다.\n",
    "\n",
    "res = requests.get(\"http://books.toscrape.com/catalogue/category/books/travel_2/index.html\")\n",
    "soup = BeautifulSoup(res.text, \"html.parser\")"
   ]
  },
  {
   "cell_type": "code",
   "execution_count": 3,
   "id": "3d6e0826",
   "metadata": {},
   "outputs": [
    {
     "data": {
      "text/plain": [
       "<h3><a href=\"../../../its-only-the-himalayas_981/index.html\" title=\"It's Only the Himalayas\">It's Only the Himalayas</a></h3>"
      ]
     },
     "execution_count": 3,
     "metadata": {},
     "output_type": "execute_result"
    }
   ],
   "source": [
    "# <h3> 태그에 해당하는 요소를 하나 찾아봅시다\n",
    "\n",
    "book = soup.find(\"h3\")\n",
    "book"
   ]
  },
  {
   "cell_type": "code",
   "execution_count": 4,
   "id": "c1e6aeea",
   "metadata": {},
   "outputs": [
    {
     "name": "stdout",
     "output_type": "stream",
     "text": [
      "11\n"
     ]
    },
    {
     "data": {
      "text/plain": [
       "<h3><a href=\"../../../its-only-the-himalayas_981/index.html\" title=\"It's Only the Himalayas\">It's Only the Himalayas</a></h3>"
      ]
     },
     "execution_count": 4,
     "metadata": {},
     "output_type": "execute_result"
    }
   ],
   "source": [
    "# <h3> 태그에 해당하는 요소를 모두 찾아봅시다\n",
    "\n",
    "h3_result = soup.find_all(\"h3\")\n",
    "print(len(h3_result))\n",
    "h3_result[0]"
   ]
  },
  {
   "cell_type": "markdown",
   "id": "d790d114",
   "metadata": {},
   "source": [
    "찾아온 데이터들은 모두 **객체**이므로, 저희가 익숙한 방식대로 데이터를 추출할 수 있습니다."
   ]
  },
  {
   "cell_type": "code",
   "execution_count": 5,
   "id": "e1af00f8-647a-4792-83bf-4a72a68c7c71",
   "metadata": {},
   "outputs": [
    {
     "name": "stdout",
     "output_type": "stream",
     "text": [
      "It's Only the Himalayas\n",
      "Full Moon over Noahâs Ark: An Odyssey to Mount Ararat and Beyond\n",
      "See America: A Celebration of Our National Parks & Treasured Sites\n",
      "Vagabonding: An Uncommon Guide to the Art of Long-Term World Travel\n",
      "Under the Tuscan Sun\n",
      "A Summer In Europe\n",
      "The Great Railway Bazaar\n",
      "A Year in Provence (Provence #1)\n",
      "The Road to Little Dribbling: Adventures of an American in Britain (Notes From a Small Island #2)\n",
      "Neither Here nor There: Travels in Europe\n",
      "1,000 Places to See Before You Die\n"
     ]
    }
   ],
   "source": [
    "# book_list에서 우리가 원하는 제목(title)만 추출해봅시다.\n",
    "\n",
    "for book in h3_result:\n",
    "    print(book.a[\"title\"])"
   ]
  }
 ],
 "metadata": {
  "kernelspec": {
   "display_name": "Python 3 (ipykernel)",
   "language": "python",
   "name": "python3"
  },
  "language_info": {
   "codemirror_mode": {
    "name": "ipython",
    "version": 3
   },
   "file_extension": ".py",
   "mimetype": "text/x-python",
   "name": "python",
   "nbconvert_exporter": "python",
   "pygments_lexer": "ipython3",
   "version": "3.9.1"
  }
 },
 "nbformat": 4,
 "nbformat_minor": 5
}
