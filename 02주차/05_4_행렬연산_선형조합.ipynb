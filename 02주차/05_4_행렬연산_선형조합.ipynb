{
 "cells": [
  {
   "cell_type": "markdown",
   "metadata": {
    "id": "Fn6NoDwPmhNs"
   },
   "source": [
    "# 인공지능 수학 - 선형대수 (NumPy 실습)\n",
    "## 스칼라, 벡터, 행렬, 그리고 텐서: 계층구조 이해하기"
   ]
  },
  {
   "cell_type": "code",
   "execution_count": 1,
   "metadata": {
    "id": "kvcJK1GfTqxA"
   },
   "outputs": [],
   "source": [
    "import numpy as np"
   ]
  },
  {
   "cell_type": "markdown",
   "metadata": {
    "id": "YT7lLpnEH6ec"
   },
   "source": [
    "##스칼라"
   ]
  },
  {
   "cell_type": "code",
   "execution_count": 2,
   "metadata": {
    "colab": {
     "base_uri": "https://localhost:8080/"
    },
    "id": "hzykFn8FH9yL",
    "outputId": "e2d23a81-b0be-485c-8278-4d5efb34656f"
   },
   "outputs": [
    {
     "name": "stdout",
     "output_type": "stream",
     "text": [
      "a: 3\n",
      "()\n"
     ]
    }
   ],
   "source": [
    "s = 3\n",
    "\n",
    "print(\"a:\", s)\n",
    "print(np.shape(s))"
   ]
  },
  {
   "cell_type": "markdown",
   "metadata": {
    "id": "1Q8Jf6iWIXCD"
   },
   "source": [
    "스칼라 -> 벡터"
   ]
  },
  {
   "cell_type": "code",
   "execution_count": 3,
   "metadata": {
    "colab": {
     "base_uri": "https://localhost:8080/"
    },
    "id": "MujrmSLgIJ7p",
    "outputId": "933a304e-ea70-4e6e-8b42-3b068cb78c27"
   },
   "outputs": [
    {
     "name": "stdout",
     "output_type": "stream",
     "text": [
      "a: [3]\n",
      "(1,)\n"
     ]
    }
   ],
   "source": [
    "a = np.reshape(s, (1,))\n",
    "\n",
    "print(\"a:\", a)\n",
    "print(np.shape(a))"
   ]
  },
  {
   "cell_type": "markdown",
   "metadata": {
    "id": "Q2N37p6NOWqX"
   },
   "source": [
    "스칼라 -> 행렬"
   ]
  },
  {
   "cell_type": "code",
   "execution_count": 4,
   "metadata": {
    "colab": {
     "base_uri": "https://localhost:8080/"
    },
    "id": "vU0qN-cUOgEG",
    "outputId": "7fb2cb9e-b630-498a-b15e-80605fccc67c"
   },
   "outputs": [
    {
     "name": "stdout",
     "output_type": "stream",
     "text": [
      "a: [[3]]\n",
      "(1, 1)\n"
     ]
    }
   ],
   "source": [
    "a = np.reshape(s, (1,1))\n",
    "\n",
    "print(\"a:\", a)\n",
    "print(np.shape(a))"
   ]
  },
  {
   "cell_type": "markdown",
   "metadata": {
    "id": "PExZuXDOOtei"
   },
   "source": [
    "스칼라 -> 3-텐서"
   ]
  },
  {
   "cell_type": "code",
   "execution_count": 5,
   "metadata": {
    "colab": {
     "base_uri": "https://localhost:8080/"
    },
    "id": "X6F13LvFOjQz",
    "outputId": "cff26842-2e48-4980-c458-e0ce3eccd6e8"
   },
   "outputs": [
    {
     "name": "stdout",
     "output_type": "stream",
     "text": [
      "a: [[[3]]]\n",
      "(1, 1, 1)\n"
     ]
    }
   ],
   "source": [
    "a = np.reshape(s, (1,1,1))\n",
    "\n",
    "print(\"a:\", a)\n",
    "print(np.shape(a))"
   ]
  },
  {
   "cell_type": "markdown",
   "metadata": {
    "id": "GOvOE92EFTZy"
   },
   "source": [
    "## 벡터"
   ]
  },
  {
   "cell_type": "code",
   "execution_count": 6,
   "metadata": {
    "colab": {
     "base_uri": "https://localhost:8080/"
    },
    "id": "SqWHFBWsT3K7",
    "outputId": "68ac1552-824f-4f79-9868-a6a42817accf"
   },
   "outputs": [
    {
     "name": "stdout",
     "output_type": "stream",
     "text": [
      "a: [ 1  2  3  4  5  6  7  8  9 10 11 12 13 14 15 16 17 18 19 20 21 22 23 24]\n",
      "(24,)\n"
     ]
    }
   ],
   "source": [
    "# 24-벡터\n",
    "a = np.array([1, 2, 3, 4, 5, 6, 7, 8, 9, 10, 11, 12, 13, 14, 15, 16, 17, 18, 19, 20, 21, 22, 23, 24])\n",
    "\n",
    "print(\"a:\", a)\n",
    "print(np.shape(a))"
   ]
  },
  {
   "cell_type": "markdown",
   "metadata": {
    "id": "Qx_Um_GH55rF"
   },
   "source": [
    "벡터 -> 행렬"
   ]
  },
  {
   "cell_type": "code",
   "execution_count": 7,
   "metadata": {
    "colab": {
     "base_uri": "https://localhost:8080/"
    },
    "id": "YYNV8UN-puA2",
    "outputId": "ef1ed8af-5189-42ad-f6bb-8d22209859c7"
   },
   "outputs": [
    {
     "name": "stdout",
     "output_type": "stream",
     "text": [
      "A: [[ 1  2  3  4  5  6  7  8  9 10 11 12 13 14 15 16 17 18 19 20 21 22 23 24]]\n",
      "A: (1, 24)\n"
     ]
    }
   ],
   "source": [
    "# 24-벡터 --> (1x24) 행렬\n",
    "A = a.reshape(1,24)\n",
    "\n",
    "print(\"A:\", A)\n",
    "print(\"A:\", np.shape(A))"
   ]
  },
  {
   "cell_type": "code",
   "execution_count": 8,
   "metadata": {
    "colab": {
     "base_uri": "https://localhost:8080/"
    },
    "id": "YFVDrsxxh6gc",
    "outputId": "b7cdc1f5-9a1a-4ad3-d503-c7ce083fb36f"
   },
   "outputs": [
    {
     "name": "stdout",
     "output_type": "stream",
     "text": [
      "A: [[ 1  2  3  4  5  6  7  8]\n",
      " [ 9 10 11 12 13 14 15 16]\n",
      " [17 18 19 20 21 22 23 24]]\n",
      "A: (3, 8)\n"
     ]
    }
   ],
   "source": [
    "# 24-벡터 --> (3x8) 행렬\n",
    "A = a.reshape(3,8)\n",
    "\n",
    "print(\"A:\", A)\n",
    "print(\"A:\", np.shape(A))"
   ]
  },
  {
   "cell_type": "code",
   "execution_count": 9,
   "metadata": {
    "colab": {
     "base_uri": "https://localhost:8080/"
    },
    "id": "Pjvr8_nmGB61",
    "outputId": "c14d07d4-7477-4a8d-cb5b-38cf2bf3e4d0"
   },
   "outputs": [
    {
     "name": "stdout",
     "output_type": "stream",
     "text": [
      "A: [[ 1  2  3  4]\n",
      " [ 5  6  7  8]\n",
      " [ 9 10 11 12]\n",
      " [13 14 15 16]\n",
      " [17 18 19 20]\n",
      " [21 22 23 24]]\n",
      "A: (6, 4)\n"
     ]
    }
   ],
   "source": [
    "# 24-벡터 --> (6x4) 행렬\n",
    "A = a.reshape(6,4)\n",
    "\n",
    "print(\"A:\", A)\n",
    "print(\"A:\", np.shape(A))"
   ]
  },
  {
   "cell_type": "code",
   "execution_count": 10,
   "metadata": {
    "colab": {
     "base_uri": "https://localhost:8080/"
    },
    "id": "rFok-TdTHJu1",
    "outputId": "f5cfb791-27eb-41f7-ab63-56032edbed53"
   },
   "outputs": [
    {
     "name": "stdout",
     "output_type": "stream",
     "text": [
      "A: [[ 1]\n",
      " [ 2]\n",
      " [ 3]\n",
      " [ 4]\n",
      " [ 5]\n",
      " [ 6]\n",
      " [ 7]\n",
      " [ 8]\n",
      " [ 9]\n",
      " [10]\n",
      " [11]\n",
      " [12]\n",
      " [13]\n",
      " [14]\n",
      " [15]\n",
      " [16]\n",
      " [17]\n",
      " [18]\n",
      " [19]\n",
      " [20]\n",
      " [21]\n",
      " [22]\n",
      " [23]\n",
      " [24]]\n",
      "A: (24, 1)\n"
     ]
    }
   ],
   "source": [
    "# 24-벡터 --> (24x1) 행렬\n",
    "A = a.reshape(24,1)\n",
    "\n",
    "print(\"A:\", A)\n",
    "print(\"A:\", np.shape(A))"
   ]
  },
  {
   "cell_type": "markdown",
   "metadata": {
    "id": "GOooXNMhGmdA"
   },
   "source": [
    "벡터 -> 3-텐서"
   ]
  },
  {
   "cell_type": "code",
   "execution_count": 11,
   "metadata": {
    "colab": {
     "base_uri": "https://localhost:8080/"
    },
    "id": "lTuKQJHwGkaL",
    "outputId": "7602b5a6-f245-40cc-9953-1c59afe42e16"
   },
   "outputs": [
    {
     "name": "stdout",
     "output_type": "stream",
     "text": [
      "A: [[[ 1  2  3  4]\n",
      "  [ 5  6  7  8]\n",
      "  [ 9 10 11 12]]\n",
      "\n",
      " [[13 14 15 16]\n",
      "  [17 18 19 20]\n",
      "  [21 22 23 24]]]\n",
      "A: (2, 3, 4)\n"
     ]
    }
   ],
   "source": [
    "# 24-벡터 --> (2x3x4) 텐서 (즉, 2개의 (3x4)행렬)\n",
    "A = a.reshape(2, 3, 4)\n",
    "\n",
    "print(\"A:\", A)\n",
    "print(\"A:\", np.shape(A))"
   ]
  },
  {
   "cell_type": "markdown",
   "metadata": {
    "id": "3Bl3v__7_uqi"
   },
   "source": [
    "벡터 -> 스칼라"
   ]
  },
  {
   "cell_type": "code",
   "execution_count": 12,
   "metadata": {
    "colab": {
     "base_uri": "https://localhost:8080/"
    },
    "id": "U2Eq5NVt_-wH",
    "outputId": "385b0b69-aecb-456b-b306-ed4e1ecb26b3"
   },
   "outputs": [
    {
     "name": "stdout",
     "output_type": "stream",
     "text": [
      "1\n",
      "300\n"
     ]
    }
   ],
   "source": [
    "## error: 벡터 a가 하나의 entry로 되어 있지 않기 때문에 아래의 경우는 모두 에러\n",
    "# s = np.reshape(a, ())\n",
    "# s = a.item()            \n",
    "\n",
    "s = a[0]\n",
    "print(s)\n",
    "\n",
    "s = a.sum()\n",
    "print(s)\n",
    "\n",
    "\n",
    "\n"
   ]
  },
  {
   "cell_type": "markdown",
   "metadata": {
    "id": "fZcGqAtSSTKF"
   },
   "source": [
    "## 행렬"
   ]
  },
  {
   "cell_type": "code",
   "execution_count": 13,
   "metadata": {
    "colab": {
     "base_uri": "https://localhost:8080/"
    },
    "id": "gU2C9qydRgsU",
    "outputId": "7f9c209b-0a6a-4eb5-b0cc-41e28b83a701"
   },
   "outputs": [
    {
     "name": "stdout",
     "output_type": "stream",
     "text": [
      "[[ 1  2  3]\n",
      " [ 4  5  6]\n",
      " [ 7  8  9]\n",
      " [10 11 12]]\n",
      "(4, 3)\n"
     ]
    }
   ],
   "source": [
    "A = np.array([[1, 2, 3], [4, 5, 6], [7, 8, 9,], [10, 11, 12]])\n",
    "\n",
    "print(A)\n",
    "print(np.shape(A))"
   ]
  },
  {
   "cell_type": "markdown",
   "metadata": {
    "id": "gPp7RKZ7Sp_L"
   },
   "source": [
    "행렬 -> 3-텐서"
   ]
  },
  {
   "cell_type": "code",
   "execution_count": 14,
   "metadata": {
    "colab": {
     "base_uri": "https://localhost:8080/"
    },
    "id": "jJe0Im38ACVz",
    "outputId": "1f1dcd3b-6872-4525-f06e-f95905873d55"
   },
   "outputs": [
    {
     "name": "stdout",
     "output_type": "stream",
     "text": [
      "[[[ 1  2  3]\n",
      "  [ 4  5  6]\n",
      "  [ 7  8  9]\n",
      "  [10 11 12]]]\n",
      "(1, 4, 3)\n",
      "[[[ 1  2  3]\n",
      "  [ 4  5  6]]\n",
      "\n",
      " [[ 7  8  9]\n",
      "  [10 11 12]]]\n",
      "(2, 2, 3)\n",
      "[[[ 1  2]\n",
      "  [ 3  4]\n",
      "  [ 5  6]]\n",
      "\n",
      " [[ 7  8]\n",
      "  [ 9 10]\n",
      "  [11 12]]]\n",
      "(2, 3, 2)\n"
     ]
    }
   ],
   "source": [
    "#\n",
    "T = A.reshape(1, 4, 3)\n",
    "\n",
    "print(T)\n",
    "print(np.shape(T))\n",
    "\n",
    "#\n",
    "T = A.reshape(2, 2, 3)\n",
    "\n",
    "print(T)\n",
    "print(np.shape(T))\n",
    "\n",
    "#\n",
    "T = A.reshape(2, 3, 2)\n",
    "\n",
    "print(T)\n",
    "print(np.shape(T))"
   ]
  },
  {
   "cell_type": "markdown",
   "metadata": {
    "id": "pu1LEUrQTlBH"
   },
   "source": [
    "행렬 -> 벡터"
   ]
  },
  {
   "cell_type": "code",
   "execution_count": 15,
   "metadata": {
    "colab": {
     "base_uri": "https://localhost:8080/"
    },
    "id": "Fg-9YGgUAgLc",
    "outputId": "e2c605a1-29b6-46d6-dfc7-9dbcb37732f9"
   },
   "outputs": [
    {
     "name": "stdout",
     "output_type": "stream",
     "text": [
      "[ 1  2  3  4  5  6  7  8  9 10 11 12]\n",
      "(12,)\n"
     ]
    }
   ],
   "source": [
    "a = A.reshape(12,)\n",
    "\n",
    "print(a)\n",
    "print(np.shape(a))"
   ]
  },
  {
   "cell_type": "markdown",
   "metadata": {
    "id": "XoAZVgfyT2h8"
   },
   "source": [
    "행렬 -> 스칼라"
   ]
  },
  {
   "cell_type": "code",
   "execution_count": 16,
   "metadata": {
    "colab": {
     "base_uri": "https://localhost:8080/"
    },
    "id": "Z4DEh2rMAy46",
    "outputId": "d1c802c7-f7d6-4f00-a60b-527c7db0018c"
   },
   "outputs": [
    {
     "name": "stdout",
     "output_type": "stream",
     "text": [
      "1\n",
      "()\n",
      "78\n",
      "()\n"
     ]
    }
   ],
   "source": [
    "#\n",
    "s = A[0,0]\n",
    "\n",
    "print(s)\n",
    "print(np.shape(s))\n",
    "\n",
    "#\n",
    "s = np.sum(A)\n",
    "\n",
    "print(s)\n",
    "print(np.shape(s))"
   ]
  },
  {
   "cell_type": "markdown",
   "metadata": {
    "id": "gjhgz9WgUsch"
   },
   "source": [
    "## 텐서"
   ]
  },
  {
   "cell_type": "markdown",
   "metadata": {
    "id": "VQlpyH1BUyXj"
   },
   "source": [
    "3-텐서 -> 행렬"
   ]
  },
  {
   "cell_type": "code",
   "execution_count": 17,
   "metadata": {
    "colab": {
     "base_uri": "https://localhost:8080/"
    },
    "id": "5pUnbBz4B5N0",
    "outputId": "8f7fbed7-dfe0-4164-d5aa-5e96a198f1e8"
   },
   "outputs": [
    {
     "name": "stdout",
     "output_type": "stream",
     "text": [
      "[[[ 1  2  3]\n",
      "  [ 4  5  6]]\n",
      "\n",
      " [[ 7  8  9]\n",
      "  [10 11 12]]]\n",
      "(2, 2, 3)\n"
     ]
    }
   ],
   "source": [
    "T = np.array([[[1, 2, 3], [4, 5, 6]], [[7, 8, 9,], [10, 11, 12]]])\n",
    "\n",
    "print(T)\n",
    "print(np.shape(T))"
   ]
  },
  {
   "cell_type": "code",
   "execution_count": 18,
   "metadata": {
    "colab": {
     "base_uri": "https://localhost:8080/"
    },
    "id": "TQDg3T7dCMWy",
    "outputId": "d4ccc066-d0a3-469c-c1b2-28e5c5ff763d"
   },
   "outputs": [
    {
     "name": "stdout",
     "output_type": "stream",
     "text": [
      "[[ 1  2  3]\n",
      " [ 4  5  6]\n",
      " [ 7  8  9]\n",
      " [10 11 12]]\n",
      "(4, 3)\n",
      "[[ 1  2  3  4]\n",
      " [ 5  6  7  8]\n",
      " [ 9 10 11 12]]\n",
      "(3, 4)\n"
     ]
    }
   ],
   "source": [
    "A = T.reshape(4, 3)\n",
    "\n",
    "print(A)\n",
    "print(np.shape(A))\n",
    "\n",
    "A = T.reshape(3, 4)\n",
    "\n",
    "print(A)\n",
    "print(np.shape(A))"
   ]
  },
  {
   "cell_type": "markdown",
   "metadata": {
    "id": "ZfLmKv8IWQqn"
   },
   "source": [
    "3-텐서 -> 벡터"
   ]
  },
  {
   "cell_type": "code",
   "execution_count": 19,
   "metadata": {
    "colab": {
     "base_uri": "https://localhost:8080/"
    },
    "id": "GQgBxnFUWB3j",
    "outputId": "fad9181e-4783-4754-b1f7-01743d538aab"
   },
   "outputs": [
    {
     "name": "stdout",
     "output_type": "stream",
     "text": [
      "[ 1  2  3  4  5  6  7  8  9 10 11 12]\n",
      "(12,)\n"
     ]
    }
   ],
   "source": [
    "a = T.reshape(12,)\n",
    "\n",
    "print(a)\n",
    "print(np.shape(a))"
   ]
  },
  {
   "cell_type": "markdown",
   "metadata": {
    "id": "S5qfNKrsW_-C"
   },
   "source": [
    "3-텐서 -> 스칼라"
   ]
  },
  {
   "cell_type": "code",
   "execution_count": 20,
   "metadata": {
    "colab": {
     "base_uri": "https://localhost:8080/"
    },
    "id": "G3GcbtwfWHjr",
    "outputId": "c9617c95-6765-4b17-87f7-d8a896ed0248"
   },
   "outputs": [
    {
     "name": "stdout",
     "output_type": "stream",
     "text": [
      "78\n",
      "()\n"
     ]
    }
   ],
   "source": [
    "s = T.sum()\n",
    "\n",
    "print(s)\n",
    "print(np.shape(s))"
   ]
  }
 ],
 "metadata": {
  "colab": {
   "name": "[1-4. 행렬연산과 선형조합]",
   "provenance": []
  },
  "kernelspec": {
   "display_name": "Python 3 (ipykernel)",
   "language": "python",
   "name": "python3"
  },
  "language_info": {
   "codemirror_mode": {
    "name": "ipython",
    "version": 3
   },
   "file_extension": ".py",
   "mimetype": "text/x-python",
   "name": "python",
   "nbconvert_exporter": "python",
   "pygments_lexer": "ipython3",
   "version": "3.9.1"
  }
 },
 "nbformat": 4,
 "nbformat_minor": 1
}
