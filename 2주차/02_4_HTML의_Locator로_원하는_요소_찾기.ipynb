{
 "cells": [
  {
   "cell_type": "markdown",
   "id": "192778f5-b6a0-458f-9d28-2ecd531975a1",
   "metadata": {},
   "source": [
    "## 2-4. HTML의 Locator로 원하는 요소 찾기\n",
    "\n",
    "- BeautifulSoup을 이용해서 더 정확하게 우리가 원하는 정보를 가져오는 방법을 학습해봅시다."
   ]
  },
  {
   "cell_type": "markdown",
   "id": "5304dfa9-2edf-4745-bcc6-8ae1e8df39af",
   "metadata": {
    "tags": []
   },
   "source": [
    "### 그래, 바로 너! `id`와 `class`\n",
    "\n",
    "태그는 자신의 이름 뿐만 아니라 고유한 속성 또한 가질 수 있습니다.  \n",
    "이 중에서 `id`와 `class`는 Locator로서, 특정 태그를 지칭하는 데에 사용됩니다.\n",
    "\n",
    "- `tagname`: 태그의 이름\n",
    "- `id`: 하나의 고유 태그를 가리키는 라벨\n",
    "- `class`: 여러 태그를 묶는 라벨\n",
    "\n",
    "```html\n",
    "<p>This element has only tagname</p>\n",
    "<p id=\"target\">This element has tagname and id</p>\n",
    "<p class=\"targets\">This element has tagname and class</p>\n",
    "```\n",
    "\n",
    "`id`와 `class`를 이용해서 HTML의 특정 태그를 지칭하고 가져오는 방법에 대해서 알아봅시다."
   ]
  },
  {
   "cell_type": "code",
   "execution_count": 1,
   "id": "7c2007bc",
   "metadata": {},
   "outputs": [],
   "source": [
    "# 스크래핑에 필요한 라이브러리를 불러와봅시다.\n",
    "\n",
    "import requests\n",
    "from bs4 import BeautifulSoup"
   ]
  },
  {
   "cell_type": "code",
   "execution_count": 2,
   "id": "9a808a3e-605b-42a4-af26-c54d2e0a9080",
   "metadata": {},
   "outputs": [],
   "source": [
    "## 또 다른 연습 사이트를 이용해봅시다.\n",
    "# http://example.python-scraping.com/\n",
    "\n",
    "res = requests.get(\"http://example.python-scraping.com/\")\n",
    "soup = BeautifulSoup(res.text, \"html.parser\")"
   ]
  },
  {
   "cell_type": "markdown",
   "id": "2a035450-aa7a-4b41-a96d-b4358b12aa81",
   "metadata": {
    "tags": []
   },
   "source": [
    "#### `id`를 이용해서 요소 가져오기\n",
    "\n",
    "`id`는 요소 하나를 지칭하는 특별한 별명입니다. (겹칠 수 없어요!)  \n",
    "`id`를 이용하면 해당하는 태그 단 하나를 쉽게 가져올 수 있습니다."
   ]
  },
  {
   "cell_type": "code",
   "execution_count": 3,
   "id": "26e256af-33d9-42ac-8334-fa2d1ae5d4b0",
   "metadata": {},
   "outputs": [
    {
     "data": {
      "text/plain": [
       "<div class=\"navbar navbar-inverse\">\n",
       "<div class=\"flash\"></div>\n",
       "<div class=\"navbar-inner\">\n",
       "<div class=\"container\">\n",
       "<!-- the next tag is necessary for bootstrap menus, do not remove -->\n",
       "<button class=\"btn btn-navbar\" data-target=\".nav-collapse\" data-toggle=\"collapse\" style=\"display:none;\" type=\"button\">\n",
       "<span class=\"icon-bar\"></span>\n",
       "<span class=\"icon-bar\"></span>\n",
       "<span class=\"icon-bar\"></span>\n",
       "</button>\n",
       "<ul class=\"nav pull-right\" id=\"navbar\"><li class=\"dropdown\"><a class=\"dropdown-toggle\" data-toggle=\"dropdown\" href=\"#\" rel=\"nofollow\">Log In</a><ul class=\"dropdown-menu\"><li><a href=\"/places/default/user/register?_next=/places/default/index\" rel=\"nofollow\"><i class=\"icon icon-user glyphicon glyphicon-user\"></i> Sign Up</a></li><li class=\"divider\"></li><li><a href=\"/places/default/user/login?_next=/places/default/index\" rel=\"nofollow\"><i class=\"icon icon-off glyphicon glyphicon-off\"></i> Log In</a></li></ul></li></ul>\n",
       "<div class=\"nav\">\n",
       "<ul class=\"nav\"><li class=\"web2py-menu-first\"><a href=\"/places/default/index\">Home</a></li><li class=\"web2py-menu-last\"><a href=\"/places/default/search\">Search</a></li></ul>\n",
       "</div><!--/.nav-collapse -->\n",
       "</div>\n",
       "</div>\n",
       "</div>"
      ]
     },
     "execution_count": 3,
     "metadata": {},
     "output_type": "execute_result"
    }
   ],
   "source": [
    "## id 없이 div 태그를 찾아봅시다.\n",
    "\n",
    "soup.find(\"div\")"
   ]
  },
  {
   "cell_type": "code",
   "execution_count": 4,
   "id": "2d09a177",
   "metadata": {},
   "outputs": [
    {
     "data": {
      "text/plain": [
       "<div id=\"results\">\n",
       "<table><tr><td><div><a href=\"/places/default/view/Afghanistan-1\"><img src=\"/places/static/images/flags/af.png\"/> Afghanistan</a></div></td><td><div><a href=\"/places/default/view/Aland-Islands-2\"><img src=\"/places/static/images/flags/ax.png\"/> Aland Islands</a></div></td></tr><tr><td><div><a href=\"/places/default/view/Albania-3\"><img src=\"/places/static/images/flags/al.png\"/> Albania</a></div></td><td><div><a href=\"/places/default/view/Algeria-4\"><img src=\"/places/static/images/flags/dz.png\"/> Algeria</a></div></td></tr><tr><td><div><a href=\"/places/default/view/American-Samoa-5\"><img src=\"/places/static/images/flags/as.png\"/> American Samoa</a></div></td><td><div><a href=\"/places/default/view/Andorra-6\"><img src=\"/places/static/images/flags/ad.png\"/> Andorra</a></div></td></tr><tr><td><div><a href=\"/places/default/view/Angola-7\"><img src=\"/places/static/images/flags/ao.png\"/> Angola</a></div></td><td><div><a href=\"/places/default/view/Anguilla-8\"><img src=\"/places/static/images/flags/ai.png\"/> Anguilla</a></div></td></tr><tr><td><div><a href=\"/places/default/view/Antarctica-9\"><img src=\"/places/static/images/flags/aq.png\"/> Antarctica</a></div></td><td><div><a href=\"/places/default/view/Antigua-and-Barbuda-10\"><img src=\"/places/static/images/flags/ag.png\"/> Antigua and Barbuda</a></div></td></tr></table>\n",
       "</div>"
      ]
     },
     "execution_count": 4,
     "metadata": {},
     "output_type": "execute_result"
    }
   ],
   "source": [
    "## id가 results인 div 태그를 찾아봅시다.\n",
    "\n",
    "soup.find(\"div\", id=\"results\")"
   ]
  },
  {
   "cell_type": "markdown",
   "id": "96fdc49b-9ba9-4679-9165-fc12c06a8513",
   "metadata": {},
   "source": [
    "#### `class`를 이용해서 요소(들) 가져오기\n",
    "\n",
    "`class`는 유사한 요소들을 구분짓는 별명입니다.  \n",
    "`class`를 이용하면 해당하는 태그 단 하나를 쉽게 가져올 수 있습니다.  \n",
    "\n",
    "e.g. 차트 속의 데이터 등"
   ]
  },
  {
   "cell_type": "code",
   "execution_count": 5,
   "id": "e56203e6-22b3-44d6-9498-bca9cf27dbf5",
   "metadata": {},
   "outputs": [
    {
     "data": {
      "text/plain": [
       "<div class=\"page-header\">\n",
       "<h1>\n",
       "                    Example web scraping website\n",
       "                    <small></small>\n",
       "</h1>\n",
       "</div>"
      ]
     },
     "execution_count": 5,
     "metadata": {},
     "output_type": "execute_result"
    }
   ],
   "source": [
    "# class가 \"page-header\"인 div 태그를 찾아봅시다.\n",
    "\n",
    "result = soup.find(\"div\", \"page-header\")\n",
    "result"
   ]
  },
  {
   "cell_type": "markdown",
   "id": "97077597",
   "metadata": {},
   "source": [
    "이는 객체이므로 다음과 같은 접근을 진행할 수 있겠죠?"
   ]
  },
  {
   "cell_type": "code",
   "execution_count": 6,
   "id": "ec8182c3",
   "metadata": {},
   "outputs": [
    {
     "data": {
      "text/plain": [
       "'Example web scraping website'"
      ]
     },
     "execution_count": 6,
     "metadata": {},
     "output_type": "execute_result"
    }
   ],
   "source": [
    "# 위 결과에서 text 값을 깔끔하게 가져와봅시다.\n",
    "\n",
    "result.h1.text.strip()"
   ]
  }
 ],
 "metadata": {
  "kernelspec": {
   "display_name": "Python 3 (ipykernel)",
   "language": "python",
   "name": "python3"
  },
  "language_info": {
   "codemirror_mode": {
    "name": "ipython",
    "version": 3
   },
   "file_extension": ".py",
   "mimetype": "text/x-python",
   "name": "python",
   "nbconvert_exporter": "python",
   "pygments_lexer": "ipython3",
   "version": "3.9.1"
  }
 },
 "nbformat": 4,
 "nbformat_minor": 5
}
