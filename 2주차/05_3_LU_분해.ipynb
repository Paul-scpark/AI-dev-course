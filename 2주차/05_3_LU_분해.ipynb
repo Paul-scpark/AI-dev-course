{
 "cells": [
  {
   "cell_type": "markdown",
   "metadata": {
    "id": "Fn6NoDwPmhNs"
   },
   "source": [
    "# 인공지능 수학 - 선형대수 (NumPy 실습)\n",
    "## LU 분해 (가우스 소거법), 행렬의 rank"
   ]
  },
  {
   "cell_type": "code",
   "execution_count": 1,
   "metadata": {},
   "outputs": [],
   "source": [
    "# pip install scipy"
   ]
  },
  {
   "cell_type": "code",
   "execution_count": 2,
   "metadata": {
    "id": "kvcJK1GfTqxA"
   },
   "outputs": [],
   "source": [
    "import numpy as np\n",
    "import scipy        \n",
    "import scipy.linalg   # LU 분해를 사용하기 위한 import "
   ]
  },
  {
   "cell_type": "code",
   "execution_count": 3,
   "metadata": {
    "colab": {
     "base_uri": "https://localhost:8080/"
    },
    "id": "SqWHFBWsT3K7",
    "outputId": "33abcc6f-db20-4ee1-be79-10810f7f535d"
   },
   "outputs": [
    {
     "name": "stdout",
     "output_type": "stream",
     "text": [
      "A: [[ 3  1  1]\n",
      " [ 1 -2 -1]\n",
      " [ 1  1  1]]\n",
      "(3, 3)\n",
      "b: [4 1 2]\n",
      "(3,)\n"
     ]
    }
   ],
   "source": [
    "# 행렬 A, 벡터 b 코딩\n",
    "A = np.array([[3, 1, 1], [1, -2, -1], [1, 1, 1]])\n",
    "b = np.array([4, 1, 2])\n",
    "\n",
    "print(\"A:\", A)\n",
    "print(np.shape(A))\n",
    "\n",
    "print(\"b:\", b)\n",
    "print(np.shape(b))"
   ]
  },
  {
   "cell_type": "markdown",
   "metadata": {
    "id": "Qx_Um_GH55rF"
   },
   "source": [
    "LU 분해 결과 확인하기"
   ]
  },
  {
   "cell_type": "code",
   "execution_count": 4,
   "metadata": {
    "colab": {
     "base_uri": "https://localhost:8080/"
    },
    "id": "YYNV8UN-puA2",
    "outputId": "67f4bc7c-523e-4a31-e129-72ba1be261da"
   },
   "outputs": [
    {
     "name": "stdout",
     "output_type": "stream",
     "text": [
      "P: [[1. 0. 0.]\n",
      " [0. 1. 0.]\n",
      " [0. 0. 1.]]\n",
      "L: [[ 1.          0.          0.        ]\n",
      " [ 0.33333333  1.          0.        ]\n",
      " [ 0.33333333 -0.28571429  1.        ]]\n",
      "U: [[ 3.          1.          1.        ]\n",
      " [ 0.         -2.33333333 -1.33333333]\n",
      " [ 0.          0.          0.28571429]]\n",
      "AA: [[ 3.  1.  1.]\n",
      " [ 1. -2. -1.]\n",
      " [ 1.  1.  1.]]\n"
     ]
    }
   ],
   "source": [
    "# LU 분해의 결과를 각각 행렬로서 확인하기\n",
    "P, L, U = scipy.linalg.lu(A)\n",
    "\n",
    "print(\"P:\", P)\n",
    "print(\"L:\", L)\n",
    "print(\"U:\", U)\n",
    "\n",
    "AA = P @ L @ U\n",
    "print(\"AA:\", AA)"
   ]
  },
  {
   "cell_type": "markdown",
   "metadata": {
    "id": "7Qa-vPFD7QVw"
   },
   "source": [
    "LU 분해를 이용한 선형시스템 Ax = b 풀기\n"
   ]
  },
  {
   "cell_type": "code",
   "execution_count": 5,
   "metadata": {
    "colab": {
     "base_uri": "https://localhost:8080/"
    },
    "id": "YFVDrsxxh6gc",
    "outputId": "7f0e5d9e-2e87-4a34-9b45-62ed407f99be"
   },
   "outputs": [
    {
     "name": "stdout",
     "output_type": "stream",
     "text": [
      "x: [ 1. -1.  2.]\n",
      "(3,)\n",
      "bb: [4. 1. 2.]\n"
     ]
    }
   ],
   "source": [
    "# LU 분해\n",
    "lu, piv = scipy.linalg.lu_factor(A)\n",
    "x = scipy.linalg.lu_solve((lu, piv), b)\n",
    "\n",
    "print(\"x:\", x)\n",
    "print(np.shape(x))\n",
    "\n",
    "bb = A@x\n",
    "print(\"bb:\", bb)\n"
   ]
  },
  {
   "cell_type": "markdown",
   "metadata": {
    "id": "3Bl3v__7_uqi"
   },
   "source": [
    "## 행렬의 rank 계산하기"
   ]
  },
  {
   "cell_type": "markdown",
   "metadata": {
    "id": "sbGGkQxzBI4T"
   },
   "source": [
    "'rank = 2'인 2x2 행렬 A\n"
   ]
  },
  {
   "cell_type": "code",
   "execution_count": 6,
   "metadata": {
    "colab": {
     "base_uri": "https://localhost:8080/"
    },
    "id": "U2Eq5NVt_-wH",
    "outputId": "bf1093ab-eff6-4820-b1d9-e6d59ff2ddcd"
   },
   "outputs": [
    {
     "name": "stdout",
     "output_type": "stream",
     "text": [
      "A: [[ 1  3]\n",
      " [-2  1]]\n"
     ]
    }
   ],
   "source": [
    "A = np.array([[1, 3], [-2, 1]])\n",
    "print(\"A:\", A)"
   ]
  },
  {
   "cell_type": "code",
   "execution_count": 7,
   "metadata": {
    "colab": {
     "base_uri": "https://localhost:8080/"
    },
    "id": "0pE3s59nBHO_",
    "outputId": "2a8e1478-87e9-4179-b8e1-bf6d1f1b0ea1"
   },
   "outputs": [
    {
     "name": "stdout",
     "output_type": "stream",
     "text": [
      "rank: 2\n",
      "[[ 0.14285714 -0.42857143]\n",
      " [ 0.28571429  0.14285714]]\n"
     ]
    }
   ],
   "source": [
    "print(\"rank:\", np.linalg.matrix_rank(A))\n",
    "A_inv = np.linalg.inv(A)  \n",
    "\n",
    "print(A_inv)"
   ]
  },
  {
   "cell_type": "markdown",
   "metadata": {
    "id": "Ef5Y7F2sBPjr"
   },
   "source": [
    "'rank = 1'인 2x2 행렬 A"
   ]
  },
  {
   "cell_type": "code",
   "execution_count": 8,
   "metadata": {
    "colab": {
     "base_uri": "https://localhost:8080/"
    },
    "id": "jJe0Im38ACVz",
    "outputId": "4036c661-f792-4753-c2ba-254bc72e967b"
   },
   "outputs": [
    {
     "name": "stdout",
     "output_type": "stream",
     "text": [
      "A: [[1 3]\n",
      " [2 6]]\n"
     ]
    }
   ],
   "source": [
    "A = np.array([[1, 3], [2, 6]])\n",
    "\n",
    "print(\"A:\", A)"
   ]
  },
  {
   "cell_type": "code",
   "execution_count": 9,
   "metadata": {
    "colab": {
     "base_uri": "https://localhost:8080/",
     "height": 396
    },
    "id": "Fg-9YGgUAgLc",
    "outputId": "cb506086-b349-46f9-9d86-a150094ef523"
   },
   "outputs": [
    {
     "name": "stdout",
     "output_type": "stream",
     "text": [
      "rank: 1\n"
     ]
    },
    {
     "ename": "LinAlgError",
     "evalue": "Singular matrix",
     "output_type": "error",
     "traceback": [
      "\u001b[0;31m---------------------------------------------------------------------------\u001b[0m",
      "\u001b[0;31mLinAlgError\u001b[0m                               Traceback (most recent call last)",
      "Input \u001b[0;32mIn [9]\u001b[0m, in \u001b[0;36m<cell line: 2>\u001b[0;34m()\u001b[0m\n\u001b[1;32m      1\u001b[0m \u001b[38;5;28mprint\u001b[39m(\u001b[38;5;124m\"\u001b[39m\u001b[38;5;124mrank:\u001b[39m\u001b[38;5;124m\"\u001b[39m, np\u001b[38;5;241m.\u001b[39mlinalg\u001b[38;5;241m.\u001b[39mmatrix_rank(A))\n\u001b[0;32m----> 2\u001b[0m A_inv \u001b[38;5;241m=\u001b[39m \u001b[43mnp\u001b[49m\u001b[38;5;241;43m.\u001b[39;49m\u001b[43mlinalg\u001b[49m\u001b[38;5;241;43m.\u001b[39;49m\u001b[43minv\u001b[49m\u001b[43m(\u001b[49m\u001b[43mA\u001b[49m\u001b[43m)\u001b[49m\n",
      "File \u001b[0;32m<__array_function__ internals>:180\u001b[0m, in \u001b[0;36minv\u001b[0;34m(*args, **kwargs)\u001b[0m\n",
      "File \u001b[0;32m/Library/Frameworks/Python.framework/Versions/3.9/lib/python3.9/site-packages/numpy/linalg/linalg.py:545\u001b[0m, in \u001b[0;36minv\u001b[0;34m(a)\u001b[0m\n\u001b[1;32m    543\u001b[0m signature \u001b[38;5;241m=\u001b[39m \u001b[38;5;124m'\u001b[39m\u001b[38;5;124mD->D\u001b[39m\u001b[38;5;124m'\u001b[39m \u001b[38;5;28;01mif\u001b[39;00m isComplexType(t) \u001b[38;5;28;01melse\u001b[39;00m \u001b[38;5;124m'\u001b[39m\u001b[38;5;124md->d\u001b[39m\u001b[38;5;124m'\u001b[39m\n\u001b[1;32m    544\u001b[0m extobj \u001b[38;5;241m=\u001b[39m get_linalg_error_extobj(_raise_linalgerror_singular)\n\u001b[0;32m--> 545\u001b[0m ainv \u001b[38;5;241m=\u001b[39m \u001b[43m_umath_linalg\u001b[49m\u001b[38;5;241;43m.\u001b[39;49m\u001b[43minv\u001b[49m\u001b[43m(\u001b[49m\u001b[43ma\u001b[49m\u001b[43m,\u001b[49m\u001b[43m \u001b[49m\u001b[43msignature\u001b[49m\u001b[38;5;241;43m=\u001b[39;49m\u001b[43msignature\u001b[49m\u001b[43m,\u001b[49m\u001b[43m \u001b[49m\u001b[43mextobj\u001b[49m\u001b[38;5;241;43m=\u001b[39;49m\u001b[43mextobj\u001b[49m\u001b[43m)\u001b[49m\n\u001b[1;32m    546\u001b[0m \u001b[38;5;28;01mreturn\u001b[39;00m wrap(ainv\u001b[38;5;241m.\u001b[39mastype(result_t, copy\u001b[38;5;241m=\u001b[39m\u001b[38;5;28;01mFalse\u001b[39;00m))\n",
      "File \u001b[0;32m/Library/Frameworks/Python.framework/Versions/3.9/lib/python3.9/site-packages/numpy/linalg/linalg.py:88\u001b[0m, in \u001b[0;36m_raise_linalgerror_singular\u001b[0;34m(err, flag)\u001b[0m\n\u001b[1;32m     87\u001b[0m \u001b[38;5;28;01mdef\u001b[39;00m \u001b[38;5;21m_raise_linalgerror_singular\u001b[39m(err, flag):\n\u001b[0;32m---> 88\u001b[0m     \u001b[38;5;28;01mraise\u001b[39;00m LinAlgError(\u001b[38;5;124m\"\u001b[39m\u001b[38;5;124mSingular matrix\u001b[39m\u001b[38;5;124m\"\u001b[39m)\n",
      "\u001b[0;31mLinAlgError\u001b[0m: Singular matrix"
     ]
    }
   ],
   "source": [
    "print(\"rank:\", np.linalg.matrix_rank(A))\n",
    "A_inv = np.linalg.inv(A)  "
   ]
  },
  {
   "cell_type": "code",
   "execution_count": 10,
   "metadata": {
    "colab": {
     "base_uri": "https://localhost:8080/"
    },
    "id": "Z4DEh2rMAy46",
    "outputId": "61ea62c6-b54a-41ef-effb-355dab917634"
   },
   "outputs": [
    {
     "name": "stdout",
     "output_type": "stream",
     "text": [
      "P: [[0. 1.]\n",
      " [1. 0.]]\n",
      "L: [[1.  0. ]\n",
      " [0.5 1. ]]\n",
      "U: [[2. 6.]\n",
      " [0. 0.]]\n",
      "AA: [[1. 3.]\n",
      " [2. 6.]]\n"
     ]
    }
   ],
   "source": [
    "# LU 분해의 결과를 각각 행렬로서 확인하기\n",
    "P, L, U = scipy.linalg.lu(A)\n",
    "\n",
    "print(\"P:\", P)\n",
    "print(\"L:\", L)\n",
    "print(\"U:\", U)\n",
    "\n",
    "AA = P @ L @ U\n",
    "print(\"AA:\", AA)"
   ]
  },
  {
   "cell_type": "code",
   "execution_count": 11,
   "metadata": {
    "colab": {
     "base_uri": "https://localhost:8080/"
    },
    "id": "5pUnbBz4B5N0",
    "outputId": "e34dd9e3-10ab-47c8-b1b4-8458701ede18"
   },
   "outputs": [
    {
     "name": "stdout",
     "output_type": "stream",
     "text": [
      "x: [nan nan]\n",
      "(2,)\n"
     ]
    },
    {
     "name": "stderr",
     "output_type": "stream",
     "text": [
      "/var/folders/ps/2_ft5c6j1b37zbcp79nn83000000gn/T/ipykernel_97889/527465238.py:3: LinAlgWarning: Diagonal number 2 is exactly zero. Singular matrix.\n",
      "  lu, piv = scipy.linalg.lu_factor(A)\n"
     ]
    }
   ],
   "source": [
    "b = np.array([2, 4])\n",
    "# LU 분해\n",
    "lu, piv = scipy.linalg.lu_factor(A)\n",
    "x = scipy.linalg.lu_solve((lu, piv), b)\n",
    "\n",
    "print(\"x:\", x)\n",
    "print(np.shape(x))"
   ]
  }
 ],
 "metadata": {
  "colab": {
   "name": "[1-3. LU 분해]-2",
   "provenance": []
  },
  "kernelspec": {
   "display_name": "Python 3 (ipykernel)",
   "language": "python",
   "name": "python3"
  },
  "language_info": {
   "codemirror_mode": {
    "name": "ipython",
    "version": 3
   },
   "file_extension": ".py",
   "mimetype": "text/x-python",
   "name": "python",
   "nbconvert_exporter": "python",
   "pygments_lexer": "ipython3",
   "version": "3.9.1"
  }
 },
 "nbformat": 4,
 "nbformat_minor": 1
}
