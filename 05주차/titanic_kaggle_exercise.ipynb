{
 "cells": [
  {
   "cell_type": "code",
   "execution_count": 1,
   "id": "86f2104b",
   "metadata": {},
   "outputs": [],
   "source": [
    "import pandas as pd\n",
    "import numpy as np\n",
    "import seaborn as sns\n",
    "import matplotlib.pyplot as plt\n",
    "import warnings\n",
    "warnings.filterwarnings('ignore')"
   ]
  },
  {
   "cell_type": "markdown",
   "id": "8515aaa8",
   "metadata": {},
   "source": [
    "# 타이타닉 데이터셋을 이용하여 생존자 예측해보기\n",
    "\n",
    "- [타이타닉 kaggle 데이터 소스](https://www.kaggle.com/competitions/titanic/data)\n",
    "\n",
    "> 조건: 머신러닝 모델을 사용하지 않고, 최종 결과물 만들기"
   ]
  },
  {
   "cell_type": "markdown",
   "id": "62964f2e",
   "metadata": {},
   "source": [
    "## 1. 타이타닉 train, test 데이터 불러오기"
   ]
  },
  {
   "cell_type": "code",
   "execution_count": 2,
   "id": "e4f6d9b5",
   "metadata": {},
   "outputs": [
    {
     "name": "stdout",
     "output_type": "stream",
     "text": [
      "(891, 12)\n"
     ]
    },
    {
     "data": {
      "text/html": [
       "<div>\n",
       "<style scoped>\n",
       "    .dataframe tbody tr th:only-of-type {\n",
       "        vertical-align: middle;\n",
       "    }\n",
       "\n",
       "    .dataframe tbody tr th {\n",
       "        vertical-align: top;\n",
       "    }\n",
       "\n",
       "    .dataframe thead th {\n",
       "        text-align: right;\n",
       "    }\n",
       "</style>\n",
       "<table border=\"1\" class=\"dataframe\">\n",
       "  <thead>\n",
       "    <tr style=\"text-align: right;\">\n",
       "      <th></th>\n",
       "      <th>PassengerId</th>\n",
       "      <th>Survived</th>\n",
       "      <th>Pclass</th>\n",
       "      <th>Name</th>\n",
       "      <th>Sex</th>\n",
       "      <th>Age</th>\n",
       "      <th>SibSp</th>\n",
       "      <th>Parch</th>\n",
       "      <th>Ticket</th>\n",
       "      <th>Fare</th>\n",
       "      <th>Cabin</th>\n",
       "      <th>Embarked</th>\n",
       "    </tr>\n",
       "  </thead>\n",
       "  <tbody>\n",
       "    <tr>\n",
       "      <th>0</th>\n",
       "      <td>1</td>\n",
       "      <td>0</td>\n",
       "      <td>3</td>\n",
       "      <td>Braund, Mr. Owen Harris</td>\n",
       "      <td>male</td>\n",
       "      <td>22.0</td>\n",
       "      <td>1</td>\n",
       "      <td>0</td>\n",
       "      <td>A/5 21171</td>\n",
       "      <td>7.2500</td>\n",
       "      <td>NaN</td>\n",
       "      <td>S</td>\n",
       "    </tr>\n",
       "    <tr>\n",
       "      <th>1</th>\n",
       "      <td>2</td>\n",
       "      <td>1</td>\n",
       "      <td>1</td>\n",
       "      <td>Cumings, Mrs. John Bradley (Florence Briggs Th...</td>\n",
       "      <td>female</td>\n",
       "      <td>38.0</td>\n",
       "      <td>1</td>\n",
       "      <td>0</td>\n",
       "      <td>PC 17599</td>\n",
       "      <td>71.2833</td>\n",
       "      <td>C85</td>\n",
       "      <td>C</td>\n",
       "    </tr>\n",
       "    <tr>\n",
       "      <th>2</th>\n",
       "      <td>3</td>\n",
       "      <td>1</td>\n",
       "      <td>3</td>\n",
       "      <td>Heikkinen, Miss. Laina</td>\n",
       "      <td>female</td>\n",
       "      <td>26.0</td>\n",
       "      <td>0</td>\n",
       "      <td>0</td>\n",
       "      <td>STON/O2. 3101282</td>\n",
       "      <td>7.9250</td>\n",
       "      <td>NaN</td>\n",
       "      <td>S</td>\n",
       "    </tr>\n",
       "    <tr>\n",
       "      <th>3</th>\n",
       "      <td>4</td>\n",
       "      <td>1</td>\n",
       "      <td>1</td>\n",
       "      <td>Futrelle, Mrs. Jacques Heath (Lily May Peel)</td>\n",
       "      <td>female</td>\n",
       "      <td>35.0</td>\n",
       "      <td>1</td>\n",
       "      <td>0</td>\n",
       "      <td>113803</td>\n",
       "      <td>53.1000</td>\n",
       "      <td>C123</td>\n",
       "      <td>S</td>\n",
       "    </tr>\n",
       "    <tr>\n",
       "      <th>4</th>\n",
       "      <td>5</td>\n",
       "      <td>0</td>\n",
       "      <td>3</td>\n",
       "      <td>Allen, Mr. William Henry</td>\n",
       "      <td>male</td>\n",
       "      <td>35.0</td>\n",
       "      <td>0</td>\n",
       "      <td>0</td>\n",
       "      <td>373450</td>\n",
       "      <td>8.0500</td>\n",
       "      <td>NaN</td>\n",
       "      <td>S</td>\n",
       "    </tr>\n",
       "  </tbody>\n",
       "</table>\n",
       "</div>"
      ],
      "text/plain": [
       "   PassengerId  Survived  Pclass  \\\n",
       "0            1         0       3   \n",
       "1            2         1       1   \n",
       "2            3         1       3   \n",
       "3            4         1       1   \n",
       "4            5         0       3   \n",
       "\n",
       "                                                Name     Sex   Age  SibSp  \\\n",
       "0                            Braund, Mr. Owen Harris    male  22.0      1   \n",
       "1  Cumings, Mrs. John Bradley (Florence Briggs Th...  female  38.0      1   \n",
       "2                             Heikkinen, Miss. Laina  female  26.0      0   \n",
       "3       Futrelle, Mrs. Jacques Heath (Lily May Peel)  female  35.0      1   \n",
       "4                           Allen, Mr. William Henry    male  35.0      0   \n",
       "\n",
       "   Parch            Ticket     Fare Cabin Embarked  \n",
       "0      0         A/5 21171   7.2500   NaN        S  \n",
       "1      0          PC 17599  71.2833   C85        C  \n",
       "2      0  STON/O2. 3101282   7.9250   NaN        S  \n",
       "3      0            113803  53.1000  C123        S  \n",
       "4      0            373450   8.0500   NaN        S  "
      ]
     },
     "execution_count": 2,
     "metadata": {},
     "output_type": "execute_result"
    }
   ],
   "source": [
    "train = pd.read_csv('train.csv')\n",
    "\n",
    "print(train.shape)\n",
    "train.head()"
   ]
  },
  {
   "cell_type": "code",
   "execution_count": 3,
   "id": "3c534e6a",
   "metadata": {},
   "outputs": [
    {
     "name": "stdout",
     "output_type": "stream",
     "text": [
      "(418, 11)\n"
     ]
    },
    {
     "data": {
      "text/html": [
       "<div>\n",
       "<style scoped>\n",
       "    .dataframe tbody tr th:only-of-type {\n",
       "        vertical-align: middle;\n",
       "    }\n",
       "\n",
       "    .dataframe tbody tr th {\n",
       "        vertical-align: top;\n",
       "    }\n",
       "\n",
       "    .dataframe thead th {\n",
       "        text-align: right;\n",
       "    }\n",
       "</style>\n",
       "<table border=\"1\" class=\"dataframe\">\n",
       "  <thead>\n",
       "    <tr style=\"text-align: right;\">\n",
       "      <th></th>\n",
       "      <th>PassengerId</th>\n",
       "      <th>Pclass</th>\n",
       "      <th>Name</th>\n",
       "      <th>Sex</th>\n",
       "      <th>Age</th>\n",
       "      <th>SibSp</th>\n",
       "      <th>Parch</th>\n",
       "      <th>Ticket</th>\n",
       "      <th>Fare</th>\n",
       "      <th>Cabin</th>\n",
       "      <th>Embarked</th>\n",
       "    </tr>\n",
       "  </thead>\n",
       "  <tbody>\n",
       "    <tr>\n",
       "      <th>0</th>\n",
       "      <td>892</td>\n",
       "      <td>3</td>\n",
       "      <td>Kelly, Mr. James</td>\n",
       "      <td>male</td>\n",
       "      <td>34.5</td>\n",
       "      <td>0</td>\n",
       "      <td>0</td>\n",
       "      <td>330911</td>\n",
       "      <td>7.8292</td>\n",
       "      <td>NaN</td>\n",
       "      <td>Q</td>\n",
       "    </tr>\n",
       "    <tr>\n",
       "      <th>1</th>\n",
       "      <td>893</td>\n",
       "      <td>3</td>\n",
       "      <td>Wilkes, Mrs. James (Ellen Needs)</td>\n",
       "      <td>female</td>\n",
       "      <td>47.0</td>\n",
       "      <td>1</td>\n",
       "      <td>0</td>\n",
       "      <td>363272</td>\n",
       "      <td>7.0000</td>\n",
       "      <td>NaN</td>\n",
       "      <td>S</td>\n",
       "    </tr>\n",
       "    <tr>\n",
       "      <th>2</th>\n",
       "      <td>894</td>\n",
       "      <td>2</td>\n",
       "      <td>Myles, Mr. Thomas Francis</td>\n",
       "      <td>male</td>\n",
       "      <td>62.0</td>\n",
       "      <td>0</td>\n",
       "      <td>0</td>\n",
       "      <td>240276</td>\n",
       "      <td>9.6875</td>\n",
       "      <td>NaN</td>\n",
       "      <td>Q</td>\n",
       "    </tr>\n",
       "    <tr>\n",
       "      <th>3</th>\n",
       "      <td>895</td>\n",
       "      <td>3</td>\n",
       "      <td>Wirz, Mr. Albert</td>\n",
       "      <td>male</td>\n",
       "      <td>27.0</td>\n",
       "      <td>0</td>\n",
       "      <td>0</td>\n",
       "      <td>315154</td>\n",
       "      <td>8.6625</td>\n",
       "      <td>NaN</td>\n",
       "      <td>S</td>\n",
       "    </tr>\n",
       "    <tr>\n",
       "      <th>4</th>\n",
       "      <td>896</td>\n",
       "      <td>3</td>\n",
       "      <td>Hirvonen, Mrs. Alexander (Helga E Lindqvist)</td>\n",
       "      <td>female</td>\n",
       "      <td>22.0</td>\n",
       "      <td>1</td>\n",
       "      <td>1</td>\n",
       "      <td>3101298</td>\n",
       "      <td>12.2875</td>\n",
       "      <td>NaN</td>\n",
       "      <td>S</td>\n",
       "    </tr>\n",
       "  </tbody>\n",
       "</table>\n",
       "</div>"
      ],
      "text/plain": [
       "   PassengerId  Pclass                                          Name     Sex  \\\n",
       "0          892       3                              Kelly, Mr. James    male   \n",
       "1          893       3              Wilkes, Mrs. James (Ellen Needs)  female   \n",
       "2          894       2                     Myles, Mr. Thomas Francis    male   \n",
       "3          895       3                              Wirz, Mr. Albert    male   \n",
       "4          896       3  Hirvonen, Mrs. Alexander (Helga E Lindqvist)  female   \n",
       "\n",
       "    Age  SibSp  Parch   Ticket     Fare Cabin Embarked  \n",
       "0  34.5      0      0   330911   7.8292   NaN        Q  \n",
       "1  47.0      1      0   363272   7.0000   NaN        S  \n",
       "2  62.0      0      0   240276   9.6875   NaN        Q  \n",
       "3  27.0      0      0   315154   8.6625   NaN        S  \n",
       "4  22.0      1      1  3101298  12.2875   NaN        S  "
      ]
     },
     "execution_count": 3,
     "metadata": {},
     "output_type": "execute_result"
    }
   ],
   "source": [
    "test = pd.read_csv('test.csv')\n",
    "\n",
    "print(test.shape)\n",
    "test.head()"
   ]
  },
  {
   "cell_type": "markdown",
   "id": "4ae951c0",
   "metadata": {},
   "source": [
    "## 2. 생존확률을 결정할 수 있는 변수를 탐색해보기\n",
    "\n",
    "### 가설1. 좌석 등급인 Pclass가 좋을수록 생존 확률이 높았을 것\n",
    "\n",
    "- Pclass 값이 작을수록 좋은 좌석을 나타내는 것 같음\n",
    "- Pclass 값이 1인 경우에는 사망자보다 생존자가 더 많음을 알 수 있음\n",
    "- 한편, 좌석 등급이 가장 좋지 않는 Pclass 값이 3인 경우에는 생존자보다 사망자가 압도적으로 많음"
   ]
  },
  {
   "cell_type": "code",
   "execution_count": 4,
   "id": "1c19d1ae",
   "metadata": {},
   "outputs": [
    {
     "data": {
      "image/png": "[encoded data removed]",
      "text/plain": [
       "<Figure size 411.875x360 with 1 Axes>"
      ]
     },
     "metadata": {
      "needs_background": "light"
     },
     "output_type": "display_data"
    }
   ],
   "source": [
    "sns.catplot(x=\"Pclass\", hue=\"Survived\", kind=\"count\", data=train)\n",
    "plt.show()"
   ]
  },
  {
   "cell_type": "markdown",
   "id": "01859229",
   "metadata": {},
   "source": [
    "### 가설2. Lady first 문화를 가지고 있었으므로, 남자보다 여자가 생존 확률이 높았을 것\n",
    "\n",
    "- 남자와 여자의 생존 비율을 확인해봤을 때, 그 결과가 상반되는 것을 확인 할 수 있음\n",
    "- 남자는 생존자보다 사망자가 압도적으로 많았지만, 여성의 경우에는 생존자가 더 많이 있었음"
   ]
  },
  {
   "cell_type": "code",
   "execution_count": 5,
   "id": "90d7c041",
   "metadata": {},
   "outputs": [
    {
     "data": {
      "image/png": "[encoded data removed]",
      "text/plain": [
       "<Figure size 411.875x360 with 1 Axes>"
      ]
     },
     "metadata": {
      "needs_background": "light"
     },
     "output_type": "display_data"
    }
   ],
   "source": [
    "sns.catplot(x=\"Sex\", hue=\"Survived\", kind=\"count\", data=train)\n",
    "plt.show()"
   ]
  },
  {
   "cell_type": "markdown",
   "id": "26439bc4",
   "metadata": {},
   "source": [
    "### 가설3. 나이가 매우 어리거나, 매우 많은 나이대에서 생존 확률이 높았을 것\n",
    "\n",
    "- 나이라는 변수는, 성별이라는 변수와 함께 보아야 할 것 같음\n",
    "- 일반적으로 재난상황에서 구출의 우선순위를 정의할 때, `노약자 및 어린이, 여성, 남성`과 같은 순서로 정의되는 것 같음\n",
    "- 따라서 남성이면서 청년 또래의 나이대인 사람들은 생존 확률이 크게 높지 않았을 것으로 생각되고, 실제 결과도 그러함\n",
    "- 남성은 나이가 20살 보다 적은 나이대에서는 생존자가 많이 있었지만, 그 이상의 나이대에서는 생존자가 많이 줄어들고 있음\n",
    "- 하지만 여성의 경우에는 나이대에 상관 없이 생존자와 사망자가 고르게 분포되어 있는 모습을 보이고 있음"
   ]
  },
  {
   "cell_type": "code",
   "execution_count": 6,
   "id": "e716c061",
   "metadata": {},
   "outputs": [
    {
     "data": {
      "image/png": "[encoded data removed]",
      "text/plain": [
       "<Figure size 432x288 with 1 Axes>"
      ]
     },
     "metadata": {
      "needs_background": "light"
     },
     "output_type": "display_data"
    }
   ],
   "source": [
    "sns.histplot(x=\"Age\", hue=\"Survived\", data=train, multiple=\"stack\")\n",
    "plt.show()"
   ]
  },
  {
   "cell_type": "code",
   "execution_count": 7,
   "id": "f72cf0dc",
   "metadata": {},
   "outputs": [
    {
     "data": {
      "image/png": "[encoded data removed]",
      "text/plain": [
       "<Figure size 432x288 with 1 Axes>"
      ]
     },
     "metadata": {
      "needs_background": "light"
     },
     "output_type": "display_data"
    }
   ],
   "source": [
    "sns.violinplot(x=\"Sex\", y=\"Age\", hue=\"Survived\", data=train, split=True)\n",
    "plt.show()"
   ]
  },
  {
   "cell_type": "markdown",
   "id": "8990ba99",
   "metadata": {},
   "source": [
    "### 가설4. 좌석 요금인 Fare가 비쌀수록 생존 확률이 높았을 것\n",
    "\n",
    "- Fare가 25 달러보다 적은 경우에는 생존자보다 사망자의 비율이 더 높음을 확인할 수 있음\n",
    "- 한편, 50 달러 이상의 Fare를 지불한 고객들은 그 숫자도 많지 않을 뿐더러 생존자 비율도 높음"
   ]
  },
  {
   "cell_type": "code",
   "execution_count": 8,
   "id": "ff86e43c",
   "metadata": {},
   "outputs": [
    {
     "data": {
      "image/png": "[encoded data removed]",
      "text/plain": [
       "<Figure size 432x288 with 1 Axes>"
      ]
     },
     "metadata": {
      "needs_background": "light"
     },
     "output_type": "display_data"
    }
   ],
   "source": [
    "sns.histplot(x=\"Fare\", hue=\"Survived\", data=train, multiple=\"stack\")\n",
    "plt.xlim([0, 200])\n",
    "plt.show()"
   ]
  },
  {
   "cell_type": "markdown",
   "id": "3e34b586",
   "metadata": {},
   "source": [
    "## 3. 2번 과정의 가설을 통해 내릴 수 있는 결론\n",
    "\n",
    "- **Sex**: 여성은 남성보다 생존 확률이 높음\n",
    "- **Sex, Age**: 남성은 나이가 어릴 때 (20살 미만), 생존 확률이 높음\n",
    "- **Pclass**: 좌석 등급이 좋을수록 (Pclass 값이 작을수록) 생존 확률이 높음\n",
    "- **Fare**: 좌석 요금이 비쌀수록 (Fare 값이 클수록) 생존 확률이 높음"
   ]
  },
  {
   "cell_type": "markdown",
   "id": "5ac4a160",
   "metadata": {},
   "source": [
    "#### 위 조건들을 train 데이터를 통해 확인해보기"
   ]
  },
  {
   "cell_type": "code",
   "execution_count": 9,
   "id": "1eaeb48e",
   "metadata": {},
   "outputs": [
    {
     "name": "stdout",
     "output_type": "stream",
     "text": [
      "94 797 = 891 \n",
      "\n",
      "여성 & 좌석 1등급인 사람의 생존 확률: 0.9680851063829787\n",
      "그 외에 사람들의 생존 확률: 0.31493099121706397\n"
     ]
    }
   ],
   "source": [
    "# 여성이면서, 좌석이 1등급인 사람\n",
    "female_first_pclass = train[(train['Sex'] == 'female') & (train['Pclass'] == 1)].index\n",
    "not_female_first_pclass = list(set(train.index) - set(female_first_pclass))\n",
    "\n",
    "print(len(female_first_pclass), len(not_female_first_pclass), '=',\n",
    "      len(female_first_pclass) + len(not_female_first_pclass), '\\n')\n",
    "print('여성 & 좌석 1등급인 사람의 생존 확률:', train.iloc[female_first_pclass, :]['Survived'].mean())\n",
    "print('그 외에 사람들의 생존 확률:', train.iloc[not_female_first_pclass, :]['Survived'].mean())"
   ]
  },
  {
   "cell_type": "code",
   "execution_count": 10,
   "id": "69b7fc12",
   "metadata": {},
   "outputs": [
    {
     "name": "stdout",
     "output_type": "stream",
     "text": [
      "87 804 = 891 \n",
      "\n",
      "여성 & 좌석 요금이 $50 이상인 사람의 생존 확률: 0.9425287356321839\n",
      "그 외에 사람들의 생존 확률: 0.32338308457711445\n"
     ]
    }
   ],
   "source": [
    "# 여성이면서, 좌석 요금이 $50 이상인 사람\n",
    "female_expensive_fare = train[(train['Sex'] == 'female') & (train['Fare'] >= 50)].index\n",
    "not_female_expensive_fare = list(set(train.index) - set(female_expensive_fare))\n",
    "\n",
    "print(len(female_expensive_fare), len(not_female_expensive_fare), '=',\n",
    "      len(female_expensive_fare) + len(not_female_expensive_fare), '\\n')\n",
    "print('여성 & 좌석 요금이 $50 이상인 사람의 생존 확률:', train.iloc[female_expensive_fare, :]['Survived'].mean())\n",
    "print('그 외에 사람들의 생존 확률:', train.iloc[not_female_expensive_fare, :]['Survived'].mean())"
   ]
  },
  {
   "cell_type": "code",
   "execution_count": 11,
   "id": "07daab43",
   "metadata": {},
   "outputs": [
    {
     "name": "stdout",
     "output_type": "stream",
     "text": [
      "102 789 = 891 \n",
      "\n",
      "남성 & 나이가 20세 미만인 사람의 생존 확률: 0.28431372549019607\n",
      "그 외에 사람들의 생존 확률: 0.39670468948035487\n"
     ]
    }
   ],
   "source": [
    "# 남성이면서, 나이가 20세 미만인 사람\n",
    "male_young_age = train[(train['Sex'] == 'male') & (train['Age'] <= 20)].index\n",
    "not_male_young_age = list(set(train.index) - set(male_young_age))\n",
    "\n",
    "print(len(male_young_age), len(not_male_young_age), '=',\n",
    "      len(male_young_age) + len(not_male_young_age), '\\n')\n",
    "print('남성 & 나이가 20세 미만인 사람의 생존 확률:', train.iloc[male_young_age, :]['Survived'].mean())\n",
    "print('그 외에 사람들의 생존 확률:', train.iloc[not_male_young_age, :]['Survived'].mean())"
   ]
  },
  {
   "cell_type": "code",
   "execution_count": 12,
   "id": "3342214c",
   "metadata": {},
   "outputs": [
    {
     "name": "stdout",
     "output_type": "stream",
     "text": [
      "33 858 = 891 \n",
      "\n",
      "남성 & 나이가 10세 미만인 사람의 생존 확률: 0.5757575757575758\n",
      "그 외에 사람들의 생존 확률: 0.3764568764568765\n"
     ]
    }
   ],
   "source": [
    "# 남성이면서, 나이가 10세 미만인 사람\n",
    "male_young_age = train[(train['Sex'] == 'male') & (train['Age'] <= 10)].index\n",
    "not_male_young_age = list(set(train.index) - set(male_young_age))\n",
    "\n",
    "print(len(male_young_age), len(not_male_young_age), '=',\n",
    "      len(male_young_age) + len(not_male_young_age), '\\n')\n",
    "print('남성 & 나이가 10세 미만인 사람의 생존 확률:', train.iloc[male_young_age, :]['Survived'].mean())\n",
    "print('그 외에 사람들의 생존 확률:', train.iloc[not_male_young_age, :]['Survived'].mean())"
   ]
  },
  {
   "cell_type": "code",
   "execution_count": 13,
   "id": "de3debde",
   "metadata": {},
   "outputs": [
    {
     "name": "stdout",
     "output_type": "stream",
     "text": [
      "23 868 = 891 \n",
      "\n",
      "남성 & 나이가 5세 미만인 사람의 생존 확률: 0.6521739130434783\n",
      "그 외에 사람들의 생존 확률: 0.37672811059907835\n"
     ]
    }
   ],
   "source": [
    "# 남성이면서, 나이가 5세 미만인 사람\n",
    "male_young_age = train[(train['Sex'] == 'male') & (train['Age'] <= 5)].index\n",
    "not_male_young_age = list(set(train.index) - set(male_young_age))\n",
    "\n",
    "print(len(male_young_age), len(not_male_young_age), '=',\n",
    "      len(male_young_age) + len(not_male_young_age), '\\n')\n",
    "print('남성 & 나이가 5세 미만인 사람의 생존 확률:', train.iloc[male_young_age, :]['Survived'].mean())\n",
    "print('그 외에 사람들의 생존 확률:', train.iloc[not_male_young_age, :]['Survived'].mean())"
   ]
  },
  {
   "cell_type": "markdown",
   "id": "f8012fd8",
   "metadata": {},
   "source": [
    "#### 위 조건들을 test 데이터를 통해 확인해보기"
   ]
  },
  {
   "cell_type": "code",
   "execution_count": 14,
   "id": "e5f17dc0",
   "metadata": {},
   "outputs": [
    {
     "name": "stdout",
     "output_type": "stream",
     "text": [
      "50 368 = 418 \n",
      "\n",
      "50\n"
     ]
    },
    {
     "data": {
      "text/html": [
       "<div>\n",
       "<style scoped>\n",
       "    .dataframe tbody tr th:only-of-type {\n",
       "        vertical-align: middle;\n",
       "    }\n",
       "\n",
       "    .dataframe tbody tr th {\n",
       "        vertical-align: top;\n",
       "    }\n",
       "\n",
       "    .dataframe thead th {\n",
       "        text-align: right;\n",
       "    }\n",
       "</style>\n",
       "<table border=\"1\" class=\"dataframe\">\n",
       "  <thead>\n",
       "    <tr style=\"text-align: right;\">\n",
       "      <th></th>\n",
       "      <th>PassengerId</th>\n",
       "      <th>Survived</th>\n",
       "    </tr>\n",
       "  </thead>\n",
       "  <tbody>\n",
       "    <tr>\n",
       "      <th>0</th>\n",
       "      <td>892</td>\n",
       "      <td>0</td>\n",
       "    </tr>\n",
       "    <tr>\n",
       "      <th>1</th>\n",
       "      <td>893</td>\n",
       "      <td>0</td>\n",
       "    </tr>\n",
       "    <tr>\n",
       "      <th>2</th>\n",
       "      <td>894</td>\n",
       "      <td>0</td>\n",
       "    </tr>\n",
       "    <tr>\n",
       "      <th>3</th>\n",
       "      <td>895</td>\n",
       "      <td>0</td>\n",
       "    </tr>\n",
       "    <tr>\n",
       "      <th>4</th>\n",
       "      <td>896</td>\n",
       "      <td>0</td>\n",
       "    </tr>\n",
       "    <tr>\n",
       "      <th>...</th>\n",
       "      <td>...</td>\n",
       "      <td>...</td>\n",
       "    </tr>\n",
       "    <tr>\n",
       "      <th>413</th>\n",
       "      <td>1305</td>\n",
       "      <td>0</td>\n",
       "    </tr>\n",
       "    <tr>\n",
       "      <th>414</th>\n",
       "      <td>1306</td>\n",
       "      <td>1</td>\n",
       "    </tr>\n",
       "    <tr>\n",
       "      <th>415</th>\n",
       "      <td>1307</td>\n",
       "      <td>0</td>\n",
       "    </tr>\n",
       "    <tr>\n",
       "      <th>416</th>\n",
       "      <td>1308</td>\n",
       "      <td>0</td>\n",
       "    </tr>\n",
       "    <tr>\n",
       "      <th>417</th>\n",
       "      <td>1309</td>\n",
       "      <td>0</td>\n",
       "    </tr>\n",
       "  </tbody>\n",
       "</table>\n",
       "<p>418 rows × 2 columns</p>\n",
       "</div>"
      ],
      "text/plain": [
       "     PassengerId  Survived\n",
       "0            892         0\n",
       "1            893         0\n",
       "2            894         0\n",
       "3            895         0\n",
       "4            896         0\n",
       "..           ...       ...\n",
       "413         1305         0\n",
       "414         1306         1\n",
       "415         1307         0\n",
       "416         1308         0\n",
       "417         1309         0\n",
       "\n",
       "[418 rows x 2 columns]"
      ]
     },
     "execution_count": 14,
     "metadata": {},
     "output_type": "execute_result"
    }
   ],
   "source": [
    "# 여성이면서, 좌석이 1등급인 사람\n",
    "female_first_pclass = test[(test['Sex'] == 'female') & (test['Pclass'] == 1)].index\n",
    "not_female_first_pclass = list(set(test.index) - set(female_first_pclass))\n",
    "\n",
    "print(len(female_first_pclass), len(not_female_first_pclass), '=',\n",
    "      len(female_first_pclass) + len(not_female_first_pclass), '\\n')\n",
    "\n",
    "test_output = test[['PassengerId']]\n",
    "test_output['Survived'] = 0\n",
    "test_output.loc[female_first_pclass, 'Survived'] = 1\n",
    "\n",
    "print(test_output['Survived'].sum())\n",
    "test_output\n",
    "# test 데이터셋의 성능 = 0.73205"
   ]
  },
  {
   "cell_type": "code",
   "execution_count": 15,
   "id": "9c12f588",
   "metadata": {},
   "outputs": [
    {
     "name": "stdout",
     "output_type": "stream",
     "text": [
      "63 355 = 418 \n",
      "\n",
      "63\n"
     ]
    },
    {
     "data": {
      "text/html": [
       "<div>\n",
       "<style scoped>\n",
       "    .dataframe tbody tr th:only-of-type {\n",
       "        vertical-align: middle;\n",
       "    }\n",
       "\n",
       "    .dataframe tbody tr th {\n",
       "        vertical-align: top;\n",
       "    }\n",
       "\n",
       "    .dataframe thead th {\n",
       "        text-align: right;\n",
       "    }\n",
       "</style>\n",
       "<table border=\"1\" class=\"dataframe\">\n",
       "  <thead>\n",
       "    <tr style=\"text-align: right;\">\n",
       "      <th></th>\n",
       "      <th>PassengerId</th>\n",
       "      <th>Survived</th>\n",
       "    </tr>\n",
       "  </thead>\n",
       "  <tbody>\n",
       "    <tr>\n",
       "      <th>0</th>\n",
       "      <td>892</td>\n",
       "      <td>0</td>\n",
       "    </tr>\n",
       "    <tr>\n",
       "      <th>1</th>\n",
       "      <td>893</td>\n",
       "      <td>0</td>\n",
       "    </tr>\n",
       "    <tr>\n",
       "      <th>2</th>\n",
       "      <td>894</td>\n",
       "      <td>0</td>\n",
       "    </tr>\n",
       "    <tr>\n",
       "      <th>3</th>\n",
       "      <td>895</td>\n",
       "      <td>0</td>\n",
       "    </tr>\n",
       "    <tr>\n",
       "      <th>4</th>\n",
       "      <td>896</td>\n",
       "      <td>0</td>\n",
       "    </tr>\n",
       "    <tr>\n",
       "      <th>...</th>\n",
       "      <td>...</td>\n",
       "      <td>...</td>\n",
       "    </tr>\n",
       "    <tr>\n",
       "      <th>413</th>\n",
       "      <td>1305</td>\n",
       "      <td>0</td>\n",
       "    </tr>\n",
       "    <tr>\n",
       "      <th>414</th>\n",
       "      <td>1306</td>\n",
       "      <td>1</td>\n",
       "    </tr>\n",
       "    <tr>\n",
       "      <th>415</th>\n",
       "      <td>1307</td>\n",
       "      <td>0</td>\n",
       "    </tr>\n",
       "    <tr>\n",
       "      <th>416</th>\n",
       "      <td>1308</td>\n",
       "      <td>0</td>\n",
       "    </tr>\n",
       "    <tr>\n",
       "      <th>417</th>\n",
       "      <td>1309</td>\n",
       "      <td>0</td>\n",
       "    </tr>\n",
       "  </tbody>\n",
       "</table>\n",
       "<p>418 rows × 2 columns</p>\n",
       "</div>"
      ],
      "text/plain": [
       "     PassengerId  Survived\n",
       "0            892         0\n",
       "1            893         0\n",
       "2            894         0\n",
       "3            895         0\n",
       "4            896         0\n",
       "..           ...       ...\n",
       "413         1305         0\n",
       "414         1306         1\n",
       "415         1307         0\n",
       "416         1308         0\n",
       "417         1309         0\n",
       "\n",
       "[418 rows x 2 columns]"
      ]
     },
     "execution_count": 15,
     "metadata": {},
     "output_type": "execute_result"
    }
   ],
   "source": [
    "# 여성이면서, 좌석이 1등급이면서, 좌석 요금이 $30 이상인 사람\n",
    "female_first_pclass = test[(test['Sex'] == 'female') & (test['Pclass'] == 1)].index\n",
    "female_expensive_fare = test[(test['Sex'] == 'female') & (test['Fare'] >= 30)].index\n",
    "female_first_pclass = list(set(list(female_first_pclass) + list(female_expensive_fare)))\n",
    "not_female_first_pclass = list(set(test.index) - set(female_first_pclass))\n",
    "\n",
    "print(len(female_first_pclass), len(not_female_first_pclass), '=',\n",
    "      len(female_first_pclass) + len(not_female_first_pclass), '\\n')\n",
    "\n",
    "test_output = test[['PassengerId']]\n",
    "test_output['Survived'] = 0\n",
    "test_output.loc[female_first_pclass, 'Survived'] = 1\n",
    "\n",
    "print(test_output['Survived'].sum())\n",
    "test_output\n",
    "# test 데이터셋의 성능 = 0.74401"
   ]
  },
  {
   "cell_type": "code",
   "execution_count": 16,
   "id": "218182f0",
   "metadata": {},
   "outputs": [
    {
     "name": "stdout",
     "output_type": "stream",
     "text": [
      "55 363 = 418 \n",
      "\n",
      "55\n"
     ]
    },
    {
     "data": {
      "text/html": [
       "<div>\n",
       "<style scoped>\n",
       "    .dataframe tbody tr th:only-of-type {\n",
       "        vertical-align: middle;\n",
       "    }\n",
       "\n",
       "    .dataframe tbody tr th {\n",
       "        vertical-align: top;\n",
       "    }\n",
       "\n",
       "    .dataframe thead th {\n",
       "        text-align: right;\n",
       "    }\n",
       "</style>\n",
       "<table border=\"1\" class=\"dataframe\">\n",
       "  <thead>\n",
       "    <tr style=\"text-align: right;\">\n",
       "      <th></th>\n",
       "      <th>PassengerId</th>\n",
       "      <th>Survived</th>\n",
       "    </tr>\n",
       "  </thead>\n",
       "  <tbody>\n",
       "    <tr>\n",
       "      <th>0</th>\n",
       "      <td>892</td>\n",
       "      <td>0</td>\n",
       "    </tr>\n",
       "    <tr>\n",
       "      <th>1</th>\n",
       "      <td>893</td>\n",
       "      <td>0</td>\n",
       "    </tr>\n",
       "    <tr>\n",
       "      <th>2</th>\n",
       "      <td>894</td>\n",
       "      <td>0</td>\n",
       "    </tr>\n",
       "    <tr>\n",
       "      <th>3</th>\n",
       "      <td>895</td>\n",
       "      <td>0</td>\n",
       "    </tr>\n",
       "    <tr>\n",
       "      <th>4</th>\n",
       "      <td>896</td>\n",
       "      <td>0</td>\n",
       "    </tr>\n",
       "    <tr>\n",
       "      <th>...</th>\n",
       "      <td>...</td>\n",
       "      <td>...</td>\n",
       "    </tr>\n",
       "    <tr>\n",
       "      <th>413</th>\n",
       "      <td>1305</td>\n",
       "      <td>0</td>\n",
       "    </tr>\n",
       "    <tr>\n",
       "      <th>414</th>\n",
       "      <td>1306</td>\n",
       "      <td>1</td>\n",
       "    </tr>\n",
       "    <tr>\n",
       "      <th>415</th>\n",
       "      <td>1307</td>\n",
       "      <td>0</td>\n",
       "    </tr>\n",
       "    <tr>\n",
       "      <th>416</th>\n",
       "      <td>1308</td>\n",
       "      <td>0</td>\n",
       "    </tr>\n",
       "    <tr>\n",
       "      <th>417</th>\n",
       "      <td>1309</td>\n",
       "      <td>0</td>\n",
       "    </tr>\n",
       "  </tbody>\n",
       "</table>\n",
       "<p>418 rows × 2 columns</p>\n",
       "</div>"
      ],
      "text/plain": [
       "     PassengerId  Survived\n",
       "0            892         0\n",
       "1            893         0\n",
       "2            894         0\n",
       "3            895         0\n",
       "4            896         0\n",
       "..           ...       ...\n",
       "413         1305         0\n",
       "414         1306         1\n",
       "415         1307         0\n",
       "416         1308         0\n",
       "417         1309         0\n",
       "\n",
       "[418 rows x 2 columns]"
      ]
     },
     "execution_count": 16,
     "metadata": {},
     "output_type": "execute_result"
    }
   ],
   "source": [
    "# 여성이면서 좌석이 1등급이거나, 남성이면서 나이가 5세 이하인 사람\n",
    "female_first_pclass = test[(test['Sex'] == 'female') & (test['Pclass'] == 1)].index\n",
    "female_expensive_fare = test[(test['Sex'] == 'male') & (test['Age'] <= 5)].index\n",
    "female_first_pclass = list(set(list(female_first_pclass) + list(female_expensive_fare)))\n",
    "not_female_first_pclass = list(set(test.index) - set(female_first_pclass))\n",
    "\n",
    "print(len(female_first_pclass), len(not_female_first_pclass), '=',\n",
    "      len(female_first_pclass) + len(not_female_first_pclass), '\\n')\n",
    "\n",
    "test_output = test[['PassengerId']]\n",
    "test_output['Survived'] = 0\n",
    "test_output.loc[female_first_pclass, 'Survived'] = 1\n",
    "\n",
    "print(test_output['Survived'].sum())\n",
    "test_output\n",
    "# test 데이터셋의 성능 = 0.72966"
   ]
  },
  {
   "cell_type": "code",
   "execution_count": 17,
   "id": "9ec2d31b",
   "metadata": {},
   "outputs": [
    {
     "name": "stdout",
     "output_type": "stream",
     "text": [
      "50 368 = 418 \n",
      "\n",
      "50\n"
     ]
    },
    {
     "data": {
      "text/html": [
       "<div>\n",
       "<style scoped>\n",
       "    .dataframe tbody tr th:only-of-type {\n",
       "        vertical-align: middle;\n",
       "    }\n",
       "\n",
       "    .dataframe tbody tr th {\n",
       "        vertical-align: top;\n",
       "    }\n",
       "\n",
       "    .dataframe thead th {\n",
       "        text-align: right;\n",
       "    }\n",
       "</style>\n",
       "<table border=\"1\" class=\"dataframe\">\n",
       "  <thead>\n",
       "    <tr style=\"text-align: right;\">\n",
       "      <th></th>\n",
       "      <th>PassengerId</th>\n",
       "      <th>Survived</th>\n",
       "    </tr>\n",
       "  </thead>\n",
       "  <tbody>\n",
       "    <tr>\n",
       "      <th>0</th>\n",
       "      <td>892</td>\n",
       "      <td>0</td>\n",
       "    </tr>\n",
       "    <tr>\n",
       "      <th>1</th>\n",
       "      <td>893</td>\n",
       "      <td>0</td>\n",
       "    </tr>\n",
       "    <tr>\n",
       "      <th>2</th>\n",
       "      <td>894</td>\n",
       "      <td>0</td>\n",
       "    </tr>\n",
       "    <tr>\n",
       "      <th>3</th>\n",
       "      <td>895</td>\n",
       "      <td>0</td>\n",
       "    </tr>\n",
       "    <tr>\n",
       "      <th>4</th>\n",
       "      <td>896</td>\n",
       "      <td>0</td>\n",
       "    </tr>\n",
       "    <tr>\n",
       "      <th>...</th>\n",
       "      <td>...</td>\n",
       "      <td>...</td>\n",
       "    </tr>\n",
       "    <tr>\n",
       "      <th>413</th>\n",
       "      <td>1305</td>\n",
       "      <td>0</td>\n",
       "    </tr>\n",
       "    <tr>\n",
       "      <th>414</th>\n",
       "      <td>1306</td>\n",
       "      <td>1</td>\n",
       "    </tr>\n",
       "    <tr>\n",
       "      <th>415</th>\n",
       "      <td>1307</td>\n",
       "      <td>0</td>\n",
       "    </tr>\n",
       "    <tr>\n",
       "      <th>416</th>\n",
       "      <td>1308</td>\n",
       "      <td>0</td>\n",
       "    </tr>\n",
       "    <tr>\n",
       "      <th>417</th>\n",
       "      <td>1309</td>\n",
       "      <td>0</td>\n",
       "    </tr>\n",
       "  </tbody>\n",
       "</table>\n",
       "<p>418 rows × 2 columns</p>\n",
       "</div>"
      ],
      "text/plain": [
       "     PassengerId  Survived\n",
       "0            892         0\n",
       "1            893         0\n",
       "2            894         0\n",
       "3            895         0\n",
       "4            896         0\n",
       "..           ...       ...\n",
       "413         1305         0\n",
       "414         1306         1\n",
       "415         1307         0\n",
       "416         1308         0\n",
       "417         1309         0\n",
       "\n",
       "[418 rows x 2 columns]"
      ]
     },
     "execution_count": 17,
     "metadata": {},
     "output_type": "execute_result"
    }
   ],
   "source": [
    "# 여성이면서 좌석이 1등급이거나, 남성이면서 나이가 5세 이하인 사람\n",
    "female_first_pclass = test[(test['Sex'] == 'female') & (test['Pclass'] == 1)].index\n",
    "female_expensive_fare = test[(test['Fare'] >= 300)].index\n",
    "female_first_pclass = list(set(list(female_first_pclass) + list(female_expensive_fare)))\n",
    "not_female_first_pclass = list(set(test.index) - set(female_first_pclass))\n",
    "\n",
    "print(len(female_first_pclass), len(not_female_first_pclass), '=',\n",
    "      len(female_first_pclass) + len(not_female_first_pclass), '\\n')\n",
    "\n",
    "test_output = test[['PassengerId']]\n",
    "test_output['Survived'] = 0\n",
    "test_output.loc[female_first_pclass, 'Survived'] = 1\n",
    "\n",
    "print(test_output['Survived'].sum())\n",
    "test_output\n",
    "# test 데이터셋의 성능 = 0.72966"
   ]
  },
  {
   "cell_type": "code",
   "execution_count": 18,
   "id": "e4fc208f",
   "metadata": {},
   "outputs": [],
   "source": [
    "test_output.to_csv('submission.csv', index=False)"
   ]
  }
 ],
 "metadata": {
  "kernelspec": {
   "display_name": "Python 3 (ipykernel)",
   "language": "python",
   "name": "python3"
  },
  "language_info": {
   "codemirror_mode": {
    "name": "ipython",
    "version": 3
   },
   "file_extension": ".py",
   "mimetype": "text/x-python",
   "name": "python",
   "nbconvert_exporter": "python",
   "pygments_lexer": "ipython3",
   "version": "3.9.1"
  }
 },
 "nbformat": 4,
 "nbformat_minor": 5
}
