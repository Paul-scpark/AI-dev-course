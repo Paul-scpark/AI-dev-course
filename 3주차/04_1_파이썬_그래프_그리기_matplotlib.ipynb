{
 "cells": [
  {
   "cell_type": "markdown",
   "metadata": {},
   "source": [
    "# Matlab으로 데이터 시각화하기\n",
    "\n",
    "**데이터를 보기좋게 표현해봅시다.**"
   ]
  },
  {
   "cell_type": "markdown",
   "metadata": {},
   "source": [
    "#### 1. Matplotlib 시작하기\n",
    "   \n",
    "#### 2. 자주 사용되는 Plotting의 Options\n",
    "- 크기 : `figsize`\n",
    "- 제목 : `title`\n",
    "- 라벨 : `_label`\n",
    "- 눈금 : `_tics`\n",
    "- 범례 : `legend`\n",
    "  \n",
    "#### 3. Matplotlib Case Study\n",
    "- 꺾은선 그래프 (Plot)\n",
    "- 산점도 (Scatter Plot)\n",
    "- 박스그림 (Box Plot)\n",
    "- 막대그래프 (Bar Chart)\n",
    "- 원형그래프 (Pie Chart)\n",
    "  \n",
    "#### 4. The 멋진 그래프, seaborn Case Study\n",
    "- 커널밀도그림 (Kernel Density Plot)\n",
    "- 카운트그림 (Count Plot)\n",
    "- 캣그림 (Cat Plot)\n",
    "- 스트립그림 (Strip Plot)\n",
    "- 히트맵 (Heatmap)\n",
    "  "
   ]
  },
  {
   "cell_type": "markdown",
   "metadata": {},
   "source": [
    "## I. Matplotlib 시작하기"
   ]
  },
  {
   "cell_type": "markdown",
   "metadata": {},
   "source": [
    "## II. Matplotlib Case Study"
   ]
  },
  {
   "cell_type": "markdown",
   "metadata": {},
   "source": [
    "## III. Matplotlib Case Study"
   ]
  },
  {
   "cell_type": "markdown",
   "metadata": {},
   "source": [
    "## IV. The 멋진 그래프, Seaborn Case Study"
   ]
  },
  {
   "cell_type": "markdown",
   "metadata": {},
   "source": [
    "## Mission:"
   ]
  },
  {
   "cell_type": "markdown",
   "metadata": {},
   "source": [
    "### "
   ]
  }
 ],
 "metadata": {
  "kernelspec": {
   "display_name": "Python 3 (ipykernel)",
   "language": "python",
   "name": "python3"
  },
  "language_info": {
   "codemirror_mode": {
    "name": "ipython",
    "version": 3
   },
   "file_extension": ".py",
   "mimetype": "text/x-python",
   "name": "python",
   "nbconvert_exporter": "python",
   "pygments_lexer": "ipython3",
   "version": "3.9.1"
  }
 },
 "nbformat": 4,
 "nbformat_minor": 4
}
